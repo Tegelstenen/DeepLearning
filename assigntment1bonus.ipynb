{
 "cells": [
  {
   "cell_type": "code",
   "execution_count": 1,
   "metadata": {},
   "outputs": [],
   "source": [
    "import numpy as np\n",
    "import matplotlib.pyplot as plt\n",
    "import pandas as pd\n",
    "from tqdm.notebook import tqdm\n",
    "\n",
    "\n",
    "from src.data import load_batch, get_moments, normalize, load_all_train_data\n",
    "from src.model import Network\n",
    "from src.utils import sigmoid, multiple_cross_entropy\n",
    "\n",
    "np.random.seed(42)"
   ]
  },
  {
   "cell_type": "code",
   "execution_count": 2,
   "metadata": {},
   "outputs": [],
   "source": [
    "# ---------- get data ----------\n",
    "X, Y, y = load_all_train_data()\n",
    "\n",
    "N = X.shape[1]\n",
    "val_indices = np.random.choice(N, size=1000, replace=False)\n",
    "train_mask = np.ones(N, dtype=bool)\n",
    "train_mask[val_indices] = False\n",
    "\n",
    "X_train, X_val = X[:, train_mask], X[:, val_indices]\n",
    "Y_train, Y_val = Y[:, train_mask], Y[:, val_indices]\n",
    "y_train, y_val = y[train_mask], y[val_indices]\n",
    "\n",
    "X_test, Y_test, y_test = load_batch(\"datasets/cifar-10-batches-py/test_batch\")\n",
    "\n",
    "mean_X, std_X = get_moments(X_train)\n",
    "X_train = normalize(X_train, mean_X, std_X)\n",
    "X_val = normalize(X_val, mean_X, std_X)\n",
    "X_test = normalize(X_test, mean_X, std_X)"
   ]
  },
  {
   "cell_type": "code",
   "execution_count": 3,
   "metadata": {},
   "outputs": [],
   "source": [
    "# Use smaller subset for grid search\n",
    "X_train_sub = X_train[:, :5000]\n",
    "Y_train_sub = Y_train[:, :5000]"
   ]
  },
  {
   "cell_type": "code",
   "execution_count": 4,
   "metadata": {},
   "outputs": [
    {
     "data": {
      "application/vnd.jupyter.widget-view+json": {
       "model_id": "5849874433644fee90bb319a27ae72e6",
       "version_major": 2,
       "version_minor": 0
      },
      "text/plain": [
       "Grid search progress:   0%|          | 0/81 [00:00<?, ?it/s]"
      ]
     },
     "metadata": {},
     "output_type": "display_data"
    },
    {
     "ename": "KeyboardInterrupt",
     "evalue": "",
     "output_type": "error",
     "traceback": [
      "\u001b[31m---------------------------------------------------------------------------\u001b[39m",
      "\u001b[31mKeyboardInterrupt\u001b[39m                         Traceback (most recent call last)",
      "\u001b[36mCell\u001b[39m\u001b[36m \u001b[39m\u001b[32mIn[4]\u001b[39m\u001b[32m, line 22\u001b[39m\n\u001b[32m     20\u001b[39m pbar.set_description(\u001b[33mf\u001b[39m\u001b[33m\"\u001b[39m\u001b[33mGrid search | lam=\u001b[39m\u001b[38;5;132;01m{\u001b[39;00mlam\u001b[38;5;132;01m:\u001b[39;00m\u001b[33m.0e\u001b[39m\u001b[38;5;132;01m}\u001b[39;00m\u001b[33m, lr=\u001b[39m\u001b[38;5;132;01m{\u001b[39;00mlr\u001b[38;5;132;01m:\u001b[39;00m\u001b[33m.4f\u001b[39m\u001b[38;5;132;01m}\u001b[39;00m\u001b[33m, batch_size=\u001b[39m\u001b[38;5;132;01m{\u001b[39;00mn_batch\u001b[38;5;132;01m}\u001b[39;00m\u001b[33m, decay_steps=\u001b[39m\u001b[38;5;132;01m{\u001b[39;00mdecays_step\u001b[38;5;132;01m}\u001b[39;00m\u001b[33m\"\u001b[39m)\n\u001b[32m     21\u001b[39m model = Network([X_train.shape[\u001b[32m0\u001b[39m], Y_train.shape[\u001b[32m0\u001b[39m]])\n\u001b[32m---> \u001b[39m\u001b[32m22\u001b[39m losses = \u001b[43mmodel\u001b[49m\u001b[43m.\u001b[49m\u001b[43mtrain\u001b[49m\u001b[43m(\u001b[49m\u001b[43mX_train_sub\u001b[49m\u001b[43m,\u001b[49m\u001b[43m \u001b[49m\u001b[43mY_train_sub\u001b[49m\u001b[43m,\u001b[49m\u001b[43m \u001b[49m\u001b[43mX_val\u001b[49m\u001b[43m,\u001b[49m\u001b[43m \u001b[49m\u001b[43mY_val\u001b[49m\u001b[43m,\u001b[49m\u001b[43m \u001b[49m\u001b[43mlam\u001b[49m\u001b[43m=\u001b[49m\u001b[43mlam\u001b[49m\u001b[43m,\u001b[49m\u001b[43m \u001b[49m\u001b[43mlr\u001b[49m\u001b[43m=\u001b[49m\u001b[43mlr\u001b[49m\u001b[43m,\u001b[49m\u001b[43m \u001b[49m\u001b[43mn_batch\u001b[49m\u001b[43m=\u001b[49m\u001b[43mn_batch\u001b[49m\u001b[43m,\u001b[49m\u001b[43m \u001b[49m\u001b[43mdecay_steps\u001b[49m\u001b[43m=\u001b[49m\u001b[43mdecays_step\u001b[49m\u001b[43m,\u001b[49m\u001b[43m \u001b[49m\u001b[43maugmentation\u001b[49m\u001b[43m=\u001b[49m\u001b[38;5;28;43;01mTrue\u001b[39;49;00m\u001b[43m)\u001b[49m\n\u001b[32m     24\u001b[39m \u001b[38;5;66;03m# Track the best configuration\u001b[39;00m\n\u001b[32m     25\u001b[39m final_val_loss = losses[\u001b[33m\"\u001b[39m\u001b[33mval\u001b[39m\u001b[33m\"\u001b[39m][\u001b[38;5;28mmax\u001b[39m(losses[\u001b[33m\"\u001b[39m\u001b[33mval\u001b[39m\u001b[33m\"\u001b[39m].keys())]\n",
      "\u001b[36mFile \u001b[39m\u001b[32m~/VT25/DD2424/assignments/src/model.py:95\u001b[39m, in \u001b[36mNetwork.train\u001b[39m\u001b[34m(self, X_train, Y_train, X_val, Y_val, n_batch, lr, epochs, lam, seed, augmentation, decay_rate, decay_steps, patience, print_out)\u001b[39m\n\u001b[32m     92\u001b[39m X_perm = X_train_copy[:, indices]\n\u001b[32m     93\u001b[39m Y_perm = Y_train[:, indices]\n\u001b[32m---> \u001b[39m\u001b[32m95\u001b[39m \u001b[38;5;28;01mfor\u001b[39;00m j \u001b[38;5;129;01min\u001b[39;00m \u001b[38;5;28mrange\u001b[39m(\u001b[38;5;28;43mint\u001b[39;49m\u001b[43m(\u001b[49m\u001b[43mN\u001b[49m\u001b[43m/\u001b[49m\u001b[43mn_batch\u001b[49m\u001b[43m)\u001b[49m):\n\u001b[32m     96\u001b[39m     start = j*n_batch\n\u001b[32m     97\u001b[39m     end = (j+\u001b[32m1\u001b[39m)*n_batch\n",
      "\u001b[31mKeyboardInterrupt\u001b[39m: "
     ]
    }
   ],
   "source": [
    "# ---------- grid search ----------\n",
    "lams = [0.001, 0.01, 0.1]\n",
    "lrs = [0.001, 0.01, 0.1]\n",
    "ns_batch = [4, 8, 16]\n",
    "decays_steps = [3, 5, 10]\n",
    "accs = []\n",
    "best_val_loss = float('inf')\n",
    "best_config = None\n",
    "val_losses = np.zeros((len(lams), len(lrs), len(ns_batch), len(decays_steps)))\n",
    "\n",
    "\n",
    "epochs = 40  # Define epochs for the training\n",
    "total_configs = len(lams) * len(lrs) * len(ns_batch) * len(decays_steps)\n",
    "pbar = tqdm(total=total_configs, desc=\"Grid search progress\")\n",
    "\n",
    "for i, lam in enumerate(lams):\n",
    "    for j, lr in enumerate(lrs):\n",
    "        for k, n_batch in enumerate(ns_batch):\n",
    "            for z, decays_step in enumerate(decays_steps):\n",
    "                pbar.set_description(f\"Grid search | lam={lam:.0e}, lr={lr:.4f}, batch_size={n_batch}, decay_steps={decays_step}\")\n",
    "                model = Network([X_train.shape[0], Y_train.shape[0]])\n",
    "                losses = model.train(X_train_sub, Y_train_sub, X_val, Y_val, lam=lam, lr=lr, n_batch=n_batch, decay_steps=decays_step, augmentation=True)\n",
    "                \n",
    "                # Track the best configuration\n",
    "                final_val_loss = losses[\"val\"][max(losses[\"val\"].keys())]\n",
    "                val_losses[i, j, k, z] = final_val_loss\n",
    "                \n",
    "                # Update progress bar\n",
    "                pbar.update(1)\n",
    "                \n",
    "pbar.close()"
   ]
  },
  {
   "cell_type": "code",
   "execution_count": 4,
   "metadata": {},
   "outputs": [
    {
     "name": "stdout",
     "output_type": "stream",
     "text": [
      "\\begin{table}[h]\n",
      "\\centering\n",
      "\\begin{tabular}{|c|c|c|c|c|c|}\n",
      "\\hline\n",
      "Rank & Accuracy & $\\lambda$ & $\\eta$ & Batch Size & Decay Steps \\\\\n",
      "\\hline\n",
      "1 & 0.4221 & 1.0e-02 & 1.0e-02 & 16 & 3 \\\\\n",
      "\\hline\n",
      "2 & 0.4206 & 1.0e-02 & 1.0e-01 & 8 & 3 \\\\\n",
      "\\hline\n",
      "3 & 0.4202 & 1.0e-02 & 1.0e-01 & 4 & 5 \\\\\n",
      "\\hline\n",
      "4 & 0.4201 & 1.0e-02 & 1.0e-03 & 8 & 5 \\\\\n",
      "\\hline\n",
      "5 & 0.4201 & 1.0e-02 & 1.0e-01 & 8 & 5 \\\\\n",
      "\\hline\n",
      "6 & 0.4191 & 1.0e-02 & 1.0e-01 & 16 & 5 \\\\\n",
      "\\hline\n",
      "7 & 0.4190 & 1.0e-03 & 1.0e-03 & 8 & 5 \\\\\n",
      "\\hline\n",
      "8 & 0.4184 & 1.0e-02 & 1.0e-03 & 4 & 5 \\\\\n",
      "\\hline\n",
      "9 & 0.4182 & 1.0e-02 & 1.0e-03 & 4 & 3 \\\\\n",
      "\\hline\n",
      "10 & 0.4181 & 1.0e-02 & 1.0e-02 & 4 & 3 \\\\\n",
      "\\hline\n",
      "\\end{tabular}\n",
      "\\caption{Top 10 configurations ranked by accuracy}\n",
      "\\label{tab:top_configs}\n",
      "\\end{table}\n"
     ]
    }
   ],
   "source": [
    "# Create a list of all configurations and their validation losses\n",
    "soft_configs = []\n",
    "for i, lam in enumerate(lams):\n",
    "    for j, lr in enumerate(lrs):\n",
    "        for k, n_batch in enumerate(ns_batch):\n",
    "            for z, decays_step in enumerate(decays_steps):\n",
    "                soft_configs.append({\n",
    "                    'lambda': lam,\n",
    "                    'learning_rate': lr,\n",
    "                    'batch_size': n_batch,\n",
    "                    'decay_steps': decays_step,\n",
    "                    'val_loss': val_losses[i, j, k, z]\n",
    "                })\n",
    "\n",
    "# Sort configurations by validation loss in descending order\n",
    "sorted_configs = sorted(soft_configs, key=lambda x: x['val_loss'], reverse=True)\n",
    "\n",
    "# Print LaTeX table\n",
    "print(r\"\\begin{table}[h]\")\n",
    "print(r\"\\centering\")\n",
    "print(r\"\\begin{tabular}{|c|c|c|c|c|c|}\")\n",
    "print(r\"\\hline\")\n",
    "print(r\"Rank & val_loss & $\\lambda$ & $\\eta$ & Batch Size & Decay Steps \\\\\")\n",
    "print(r\"\\hline\")\n",
    "for i, config in enumerate(sorted_configs[:10]):\n",
    "    print(f\"{i+1} & {config['val_loss']:.4f} & {config['lambda']:.1e} & {config['learning_rate']:.1e} & {config['batch_size']} & {config['decay_steps']} \\\\\\\\\")\n",
    "    print(r\"\\hline\")\n",
    "print(r\"\\end{tabular}\")\n",
    "print(r\"\\caption{Top 10 configurations ranked by validation loss}\")\n",
    "print(r\"\\label{tab:top_configs}\")\n",
    "print(r\"\\end{table}\")"
   ]
  },
  {
   "cell_type": "code",
   "execution_count": null,
   "metadata": {},
   "outputs": [
    {
     "data": {
      "application/vnd.jupyter.widget-view+json": {
       "model_id": "7719025d389940dd9c328ec6ea6456cf",
       "version_major": 2,
       "version_minor": 0
      },
      "text/plain": [
       "Training | lam=1e-03, lr=0.0010, batch_size=4, decay_steps=3:   0%|          | 0/40 [00:00<?, ?it/s]"
      ]
     },
     "metadata": {},
     "output_type": "display_data"
    },
    {
     "data": {
      "application/vnd.jupyter.widget-view+json": {
       "model_id": "014f67c288784bb2a4a1bfafb6c4ffdb",
       "version_major": 2,
       "version_minor": 0
      },
      "text/plain": [
       "Training | lam=1e-03, lr=0.0010, batch_size=4, decay_steps=5:   0%|          | 0/40 [00:00<?, ?it/s]"
      ]
     },
     "metadata": {},
     "output_type": "display_data"
    },
    {
     "data": {
      "application/vnd.jupyter.widget-view+json": {
       "model_id": "e9d6293679db4e358e24b26519940bae",
       "version_major": 2,
       "version_minor": 0
      },
      "text/plain": [
       "Training | lam=1e-03, lr=0.0010, batch_size=4, decay_steps=10:   0%|          | 0/40 [00:00<?, ?it/s]"
      ]
     },
     "metadata": {},
     "output_type": "display_data"
    },
    {
     "data": {
      "application/vnd.jupyter.widget-view+json": {
       "model_id": "bc5c890ee87d43bca9e39991c49f7d9c",
       "version_major": 2,
       "version_minor": 0
      },
      "text/plain": [
       "Training | lam=1e-03, lr=0.0010, batch_size=8, decay_steps=3:   0%|          | 0/40 [00:00<?, ?it/s]"
      ]
     },
     "metadata": {},
     "output_type": "display_data"
    },
    {
     "data": {
      "application/vnd.jupyter.widget-view+json": {
       "model_id": "91a4fa98f4454ddebd3f438cea30d010",
       "version_major": 2,
       "version_minor": 0
      },
      "text/plain": [
       "Training | lam=1e-03, lr=0.0010, batch_size=8, decay_steps=5:   0%|          | 0/40 [00:00<?, ?it/s]"
      ]
     },
     "metadata": {},
     "output_type": "display_data"
    },
    {
     "data": {
      "application/vnd.jupyter.widget-view+json": {
       "model_id": "fe047ddf181646c49ad626a2c95aec4e",
       "version_major": 2,
       "version_minor": 0
      },
      "text/plain": [
       "Training | lam=1e-03, lr=0.0010, batch_size=8, decay_steps=10:   0%|          | 0/40 [00:00<?, ?it/s]"
      ]
     },
     "metadata": {},
     "output_type": "display_data"
    },
    {
     "data": {
      "application/vnd.jupyter.widget-view+json": {
       "model_id": "524335bcdc174e4da428047fd5550633",
       "version_major": 2,
       "version_minor": 0
      },
      "text/plain": [
       "Training | lam=1e-03, lr=0.0010, batch_size=16, decay_steps=3:   0%|          | 0/40 [00:00<?, ?it/s]"
      ]
     },
     "metadata": {},
     "output_type": "display_data"
    },
    {
     "data": {
      "application/vnd.jupyter.widget-view+json": {
       "model_id": "df52069f31a940748ff8742b3ac2f302",
       "version_major": 2,
       "version_minor": 0
      },
      "text/plain": [
       "Training | lam=1e-03, lr=0.0010, batch_size=16, decay_steps=5:   0%|          | 0/40 [00:00<?, ?it/s]"
      ]
     },
     "metadata": {},
     "output_type": "display_data"
    },
    {
     "data": {
      "application/vnd.jupyter.widget-view+json": {
       "model_id": "85e991fd7e284e34a53f0d94c01c2840",
       "version_major": 2,
       "version_minor": 0
      },
      "text/plain": [
       "Training | lam=1e-03, lr=0.0010, batch_size=16, decay_steps=10:   0%|          | 0/40 [00:00<?, ?it/s]"
      ]
     },
     "metadata": {},
     "output_type": "display_data"
    },
    {
     "data": {
      "application/vnd.jupyter.widget-view+json": {
       "model_id": "56d5d145cb1146e6ae239cdf7980006a",
       "version_major": 2,
       "version_minor": 0
      },
      "text/plain": [
       "Training | lam=1e-03, lr=0.0100, batch_size=4, decay_steps=3:   0%|          | 0/40 [00:00<?, ?it/s]"
      ]
     },
     "metadata": {},
     "output_type": "display_data"
    },
    {
     "data": {
      "application/vnd.jupyter.widget-view+json": {
       "model_id": "3edfbd2deb524b2295e2fe848481ab95",
       "version_major": 2,
       "version_minor": 0
      },
      "text/plain": [
       "Training | lam=1e-03, lr=0.0100, batch_size=4, decay_steps=5:   0%|          | 0/40 [00:00<?, ?it/s]"
      ]
     },
     "metadata": {},
     "output_type": "display_data"
    },
    {
     "data": {
      "application/vnd.jupyter.widget-view+json": {
       "model_id": "be15f992eb0d41a0b5c61701e5341c45",
       "version_major": 2,
       "version_minor": 0
      },
      "text/plain": [
       "Training | lam=1e-03, lr=0.0100, batch_size=4, decay_steps=10:   0%|          | 0/40 [00:00<?, ?it/s]"
      ]
     },
     "metadata": {},
     "output_type": "display_data"
    },
    {
     "data": {
      "application/vnd.jupyter.widget-view+json": {
       "model_id": "af910c3b7a8a48218d0feb18b08460aa",
       "version_major": 2,
       "version_minor": 0
      },
      "text/plain": [
       "Training | lam=1e-03, lr=0.0100, batch_size=8, decay_steps=3:   0%|          | 0/40 [00:00<?, ?it/s]"
      ]
     },
     "metadata": {},
     "output_type": "display_data"
    },
    {
     "data": {
      "application/vnd.jupyter.widget-view+json": {
       "model_id": "fe3a000de0e0485eb9aad2afc5fd5a94",
       "version_major": 2,
       "version_minor": 0
      },
      "text/plain": [
       "Training | lam=1e-03, lr=0.0100, batch_size=8, decay_steps=5:   0%|          | 0/40 [00:00<?, ?it/s]"
      ]
     },
     "metadata": {},
     "output_type": "display_data"
    },
    {
     "data": {
      "application/vnd.jupyter.widget-view+json": {
       "model_id": "653d8ee5c282489b91630100d08adcaf",
       "version_major": 2,
       "version_minor": 0
      },
      "text/plain": [
       "Training | lam=1e-03, lr=0.0100, batch_size=8, decay_steps=10:   0%|          | 0/40 [00:00<?, ?it/s]"
      ]
     },
     "metadata": {},
     "output_type": "display_data"
    },
    {
     "data": {
      "application/vnd.jupyter.widget-view+json": {
       "model_id": "87ac0180ce524ceea9f4bfbe0cd7239e",
       "version_major": 2,
       "version_minor": 0
      },
      "text/plain": [
       "Training | lam=1e-03, lr=0.0100, batch_size=16, decay_steps=3:   0%|          | 0/40 [00:00<?, ?it/s]"
      ]
     },
     "metadata": {},
     "output_type": "display_data"
    },
    {
     "data": {
      "application/vnd.jupyter.widget-view+json": {
       "model_id": "d2ac1b11ef184b55aefef40754d248b3",
       "version_major": 2,
       "version_minor": 0
      },
      "text/plain": [
       "Training | lam=1e-03, lr=0.0100, batch_size=16, decay_steps=5:   0%|          | 0/40 [00:00<?, ?it/s]"
      ]
     },
     "metadata": {},
     "output_type": "display_data"
    },
    {
     "data": {
      "application/vnd.jupyter.widget-view+json": {
       "model_id": "3adf53c0dd984280b5417b88c0b3ff7b",
       "version_major": 2,
       "version_minor": 0
      },
      "text/plain": [
       "Training | lam=1e-03, lr=0.0100, batch_size=16, decay_steps=10:   0%|          | 0/40 [00:00<?, ?it/s]"
      ]
     },
     "metadata": {},
     "output_type": "display_data"
    },
    {
     "data": {
      "application/vnd.jupyter.widget-view+json": {
       "model_id": "85fc53f02c4e4a0d87f0aa0b1ed1e236",
       "version_major": 2,
       "version_minor": 0
      },
      "text/plain": [
       "Training | lam=1e-03, lr=0.1000, batch_size=4, decay_steps=3:   0%|          | 0/40 [00:00<?, ?it/s]"
      ]
     },
     "metadata": {},
     "output_type": "display_data"
    },
    {
     "data": {
      "application/vnd.jupyter.widget-view+json": {
       "model_id": "68f479b2decf4b7c855989e6346ec208",
       "version_major": 2,
       "version_minor": 0
      },
      "text/plain": [
       "Training | lam=1e-03, lr=0.1000, batch_size=4, decay_steps=5:   0%|          | 0/40 [00:00<?, ?it/s]"
      ]
     },
     "metadata": {},
     "output_type": "display_data"
    },
    {
     "data": {
      "application/vnd.jupyter.widget-view+json": {
       "model_id": "940469a66e404aeabbdc197a5376b1ff",
       "version_major": 2,
       "version_minor": 0
      },
      "text/plain": [
       "Training | lam=1e-03, lr=0.1000, batch_size=4, decay_steps=10:   0%|          | 0/40 [00:00<?, ?it/s]"
      ]
     },
     "metadata": {},
     "output_type": "display_data"
    },
    {
     "data": {
      "application/vnd.jupyter.widget-view+json": {
       "model_id": "55ff008d140947e589d25d4c06413980",
       "version_major": 2,
       "version_minor": 0
      },
      "text/plain": [
       "Training | lam=1e-03, lr=0.1000, batch_size=8, decay_steps=3:   0%|          | 0/40 [00:00<?, ?it/s]"
      ]
     },
     "metadata": {},
     "output_type": "display_data"
    },
    {
     "data": {
      "application/vnd.jupyter.widget-view+json": {
       "model_id": "7c5c329983504fc8b316c7923f2a4def",
       "version_major": 2,
       "version_minor": 0
      },
      "text/plain": [
       "Training | lam=1e-03, lr=0.1000, batch_size=8, decay_steps=5:   0%|          | 0/40 [00:00<?, ?it/s]"
      ]
     },
     "metadata": {},
     "output_type": "display_data"
    },
    {
     "data": {
      "application/vnd.jupyter.widget-view+json": {
       "model_id": "aed567daf60a4acfa6de656df3ab2404",
       "version_major": 2,
       "version_minor": 0
      },
      "text/plain": [
       "Training | lam=1e-03, lr=0.1000, batch_size=8, decay_steps=10:   0%|          | 0/40 [00:00<?, ?it/s]"
      ]
     },
     "metadata": {},
     "output_type": "display_data"
    },
    {
     "data": {
      "application/vnd.jupyter.widget-view+json": {
       "model_id": "137718b64db64086aeb0dd1486f18f90",
       "version_major": 2,
       "version_minor": 0
      },
      "text/plain": [
       "Training | lam=1e-03, lr=0.1000, batch_size=16, decay_steps=3:   0%|          | 0/40 [00:00<?, ?it/s]"
      ]
     },
     "metadata": {},
     "output_type": "display_data"
    },
    {
     "data": {
      "application/vnd.jupyter.widget-view+json": {
       "model_id": "07f0a0640866470a9c09682bb78dfa87",
       "version_major": 2,
       "version_minor": 0
      },
      "text/plain": [
       "Training | lam=1e-03, lr=0.1000, batch_size=16, decay_steps=5:   0%|          | 0/40 [00:00<?, ?it/s]"
      ]
     },
     "metadata": {},
     "output_type": "display_data"
    },
    {
     "data": {
      "application/vnd.jupyter.widget-view+json": {
       "model_id": "77697ba0db1945baaf450c1fbb8a7ef7",
       "version_major": 2,
       "version_minor": 0
      },
      "text/plain": [
       "Training | lam=1e-03, lr=0.1000, batch_size=16, decay_steps=10:   0%|          | 0/40 [00:00<?, ?it/s]"
      ]
     },
     "metadata": {},
     "output_type": "display_data"
    },
    {
     "data": {
      "application/vnd.jupyter.widget-view+json": {
       "model_id": "bc7f078825bf49eba4d773c7fae0cbd6",
       "version_major": 2,
       "version_minor": 0
      },
      "text/plain": [
       "Training | lam=1e-02, lr=0.0010, batch_size=4, decay_steps=3:   0%|          | 0/40 [00:00<?, ?it/s]"
      ]
     },
     "metadata": {},
     "output_type": "display_data"
    },
    {
     "data": {
      "application/vnd.jupyter.widget-view+json": {
       "model_id": "1980faa47f4e47718ad05a5096ce5550",
       "version_major": 2,
       "version_minor": 0
      },
      "text/plain": [
       "Training | lam=1e-02, lr=0.0010, batch_size=4, decay_steps=5:   0%|          | 0/40 [00:00<?, ?it/s]"
      ]
     },
     "metadata": {},
     "output_type": "display_data"
    },
    {
     "data": {
      "application/vnd.jupyter.widget-view+json": {
       "model_id": "5e4fc78525f343ab8b8e24a2a83673ff",
       "version_major": 2,
       "version_minor": 0
      },
      "text/plain": [
       "Training | lam=1e-02, lr=0.0010, batch_size=4, decay_steps=10:   0%|          | 0/40 [00:00<?, ?it/s]"
      ]
     },
     "metadata": {},
     "output_type": "display_data"
    },
    {
     "data": {
      "application/vnd.jupyter.widget-view+json": {
       "model_id": "0fa0084021594269b9a9cb71bd227689",
       "version_major": 2,
       "version_minor": 0
      },
      "text/plain": [
       "Training | lam=1e-02, lr=0.0010, batch_size=8, decay_steps=3:   0%|          | 0/40 [00:00<?, ?it/s]"
      ]
     },
     "metadata": {},
     "output_type": "display_data"
    },
    {
     "data": {
      "application/vnd.jupyter.widget-view+json": {
       "model_id": "adce2cf5ee37457e8c8a76f2ce4cf71c",
       "version_major": 2,
       "version_minor": 0
      },
      "text/plain": [
       "Training | lam=1e-02, lr=0.0010, batch_size=8, decay_steps=5:   0%|          | 0/40 [00:00<?, ?it/s]"
      ]
     },
     "metadata": {},
     "output_type": "display_data"
    },
    {
     "data": {
      "application/vnd.jupyter.widget-view+json": {
       "model_id": "b279846e27ed4492a1d1373e737b4156",
       "version_major": 2,
       "version_minor": 0
      },
      "text/plain": [
       "Training | lam=1e-02, lr=0.0010, batch_size=8, decay_steps=10:   0%|          | 0/40 [00:00<?, ?it/s]"
      ]
     },
     "metadata": {},
     "output_type": "display_data"
    },
    {
     "data": {
      "application/vnd.jupyter.widget-view+json": {
       "model_id": "2fa461c0532345c69a6fc9225a581b6b",
       "version_major": 2,
       "version_minor": 0
      },
      "text/plain": [
       "Training | lam=1e-02, lr=0.0010, batch_size=16, decay_steps=3:   0%|          | 0/40 [00:00<?, ?it/s]"
      ]
     },
     "metadata": {},
     "output_type": "display_data"
    },
    {
     "data": {
      "application/vnd.jupyter.widget-view+json": {
       "model_id": "56fedfc868e744c287dbed5018b6fc7a",
       "version_major": 2,
       "version_minor": 0
      },
      "text/plain": [
       "Training | lam=1e-02, lr=0.0010, batch_size=16, decay_steps=5:   0%|          | 0/40 [00:00<?, ?it/s]"
      ]
     },
     "metadata": {},
     "output_type": "display_data"
    },
    {
     "data": {
      "application/vnd.jupyter.widget-view+json": {
       "model_id": "07373bcceda54916ba81a90aadca2f5d",
       "version_major": 2,
       "version_minor": 0
      },
      "text/plain": [
       "Training | lam=1e-02, lr=0.0010, batch_size=16, decay_steps=10:   0%|          | 0/40 [00:00<?, ?it/s]"
      ]
     },
     "metadata": {},
     "output_type": "display_data"
    },
    {
     "data": {
      "application/vnd.jupyter.widget-view+json": {
       "model_id": "70564da2c05d46c38e5472fc7533f51b",
       "version_major": 2,
       "version_minor": 0
      },
      "text/plain": [
       "Training | lam=1e-02, lr=0.0100, batch_size=4, decay_steps=3:   0%|          | 0/40 [00:00<?, ?it/s]"
      ]
     },
     "metadata": {},
     "output_type": "display_data"
    },
    {
     "data": {
      "application/vnd.jupyter.widget-view+json": {
       "model_id": "f023f6d9902b436c9a87a6cfd616b227",
       "version_major": 2,
       "version_minor": 0
      },
      "text/plain": [
       "Training | lam=1e-02, lr=0.0100, batch_size=4, decay_steps=5:   0%|          | 0/40 [00:00<?, ?it/s]"
      ]
     },
     "metadata": {},
     "output_type": "display_data"
    },
    {
     "data": {
      "application/vnd.jupyter.widget-view+json": {
       "model_id": "2044e987d88649dc9a6201ea3de7bb0b",
       "version_major": 2,
       "version_minor": 0
      },
      "text/plain": [
       "Training | lam=1e-02, lr=0.0100, batch_size=4, decay_steps=10:   0%|          | 0/40 [00:00<?, ?it/s]"
      ]
     },
     "metadata": {},
     "output_type": "display_data"
    },
    {
     "data": {
      "application/vnd.jupyter.widget-view+json": {
       "model_id": "d0e4c9144c794f8f9cb4fa6257a5962c",
       "version_major": 2,
       "version_minor": 0
      },
      "text/plain": [
       "Training | lam=1e-02, lr=0.0100, batch_size=8, decay_steps=3:   0%|          | 0/40 [00:00<?, ?it/s]"
      ]
     },
     "metadata": {},
     "output_type": "display_data"
    },
    {
     "data": {
      "application/vnd.jupyter.widget-view+json": {
       "model_id": "b13004e0f20b495d815709f511408612",
       "version_major": 2,
       "version_minor": 0
      },
      "text/plain": [
       "Training | lam=1e-02, lr=0.0100, batch_size=8, decay_steps=5:   0%|          | 0/40 [00:00<?, ?it/s]"
      ]
     },
     "metadata": {},
     "output_type": "display_data"
    },
    {
     "data": {
      "application/vnd.jupyter.widget-view+json": {
       "model_id": "5194aec0e0bc4c4b88faa0cb3b77029a",
       "version_major": 2,
       "version_minor": 0
      },
      "text/plain": [
       "Training | lam=1e-02, lr=0.0100, batch_size=8, decay_steps=10:   0%|          | 0/40 [00:00<?, ?it/s]"
      ]
     },
     "metadata": {},
     "output_type": "display_data"
    },
    {
     "data": {
      "application/vnd.jupyter.widget-view+json": {
       "model_id": "2d09a620a7ce4dbfb710a1981f784a6c",
       "version_major": 2,
       "version_minor": 0
      },
      "text/plain": [
       "Training | lam=1e-02, lr=0.0100, batch_size=16, decay_steps=3:   0%|          | 0/40 [00:00<?, ?it/s]"
      ]
     },
     "metadata": {},
     "output_type": "display_data"
    },
    {
     "data": {
      "application/vnd.jupyter.widget-view+json": {
       "model_id": "7c369e93d0ec4639a6e391a0006c71f6",
       "version_major": 2,
       "version_minor": 0
      },
      "text/plain": [
       "Training | lam=1e-02, lr=0.0100, batch_size=16, decay_steps=5:   0%|          | 0/40 [00:00<?, ?it/s]"
      ]
     },
     "metadata": {},
     "output_type": "display_data"
    },
    {
     "data": {
      "application/vnd.jupyter.widget-view+json": {
       "model_id": "9611a3ad15554e589439b056c027df78",
       "version_major": 2,
       "version_minor": 0
      },
      "text/plain": [
       "Training | lam=1e-02, lr=0.0100, batch_size=16, decay_steps=10:   0%|          | 0/40 [00:00<?, ?it/s]"
      ]
     },
     "metadata": {},
     "output_type": "display_data"
    },
    {
     "data": {
      "application/vnd.jupyter.widget-view+json": {
       "model_id": "748a319a55c8445d8da701772e66f0d6",
       "version_major": 2,
       "version_minor": 0
      },
      "text/plain": [
       "Training | lam=1e-02, lr=0.1000, batch_size=4, decay_steps=3:   0%|          | 0/40 [00:00<?, ?it/s]"
      ]
     },
     "metadata": {},
     "output_type": "display_data"
    },
    {
     "data": {
      "application/vnd.jupyter.widget-view+json": {
       "model_id": "c2f00d4efbcc4a1995ab1331da4caf23",
       "version_major": 2,
       "version_minor": 0
      },
      "text/plain": [
       "Training | lam=1e-02, lr=0.1000, batch_size=4, decay_steps=5:   0%|          | 0/40 [00:00<?, ?it/s]"
      ]
     },
     "metadata": {},
     "output_type": "display_data"
    },
    {
     "data": {
      "application/vnd.jupyter.widget-view+json": {
       "model_id": "97774f27214f42dfb26bea5adde8a641",
       "version_major": 2,
       "version_minor": 0
      },
      "text/plain": [
       "Training | lam=1e-02, lr=0.1000, batch_size=4, decay_steps=10:   0%|          | 0/40 [00:00<?, ?it/s]"
      ]
     },
     "metadata": {},
     "output_type": "display_data"
    },
    {
     "data": {
      "application/vnd.jupyter.widget-view+json": {
       "model_id": "de4bdf8a1a814051a3644c72c44abcb3",
       "version_major": 2,
       "version_minor": 0
      },
      "text/plain": [
       "Training | lam=1e-02, lr=0.1000, batch_size=8, decay_steps=3:   0%|          | 0/40 [00:00<?, ?it/s]"
      ]
     },
     "metadata": {},
     "output_type": "display_data"
    },
    {
     "data": {
      "application/vnd.jupyter.widget-view+json": {
       "model_id": "1a5333aadf7640dea5fea6e0dd82c252",
       "version_major": 2,
       "version_minor": 0
      },
      "text/plain": [
       "Training | lam=1e-02, lr=0.1000, batch_size=8, decay_steps=5:   0%|          | 0/40 [00:00<?, ?it/s]"
      ]
     },
     "metadata": {},
     "output_type": "display_data"
    },
    {
     "data": {
      "application/vnd.jupyter.widget-view+json": {
       "model_id": "1c5e6d38de0349f08baa85b5575447c0",
       "version_major": 2,
       "version_minor": 0
      },
      "text/plain": [
       "Training | lam=1e-02, lr=0.1000, batch_size=8, decay_steps=10:   0%|          | 0/40 [00:00<?, ?it/s]"
      ]
     },
     "metadata": {},
     "output_type": "display_data"
    },
    {
     "data": {
      "application/vnd.jupyter.widget-view+json": {
       "model_id": "66ad0fc70beb41d48c9eed8a55479455",
       "version_major": 2,
       "version_minor": 0
      },
      "text/plain": [
       "Training | lam=1e-02, lr=0.1000, batch_size=16, decay_steps=3:   0%|          | 0/40 [00:00<?, ?it/s]"
      ]
     },
     "metadata": {},
     "output_type": "display_data"
    },
    {
     "data": {
      "application/vnd.jupyter.widget-view+json": {
       "model_id": "b3e9884a105b4cf5a4cc1bb7a647dc95",
       "version_major": 2,
       "version_minor": 0
      },
      "text/plain": [
       "Training | lam=1e-02, lr=0.1000, batch_size=16, decay_steps=5:   0%|          | 0/40 [00:00<?, ?it/s]"
      ]
     },
     "metadata": {},
     "output_type": "display_data"
    },
    {
     "data": {
      "application/vnd.jupyter.widget-view+json": {
       "model_id": "3c95b56321184f3ca6c4f876a29ee841",
       "version_major": 2,
       "version_minor": 0
      },
      "text/plain": [
       "Training | lam=1e-02, lr=0.1000, batch_size=16, decay_steps=10:   0%|          | 0/40 [00:00<?, ?it/s]"
      ]
     },
     "metadata": {},
     "output_type": "display_data"
    },
    {
     "data": {
      "application/vnd.jupyter.widget-view+json": {
       "model_id": "7fcb90c5786c4644992e8898b5c89b2e",
       "version_major": 2,
       "version_minor": 0
      },
      "text/plain": [
       "Training | lam=1e-01, lr=0.0010, batch_size=4, decay_steps=3:   0%|          | 0/40 [00:00<?, ?it/s]"
      ]
     },
     "metadata": {},
     "output_type": "display_data"
    },
    {
     "data": {
      "application/vnd.jupyter.widget-view+json": {
       "model_id": "34e0cdf960984257ba37f797d65e51fe",
       "version_major": 2,
       "version_minor": 0
      },
      "text/plain": [
       "Training | lam=1e-01, lr=0.0010, batch_size=4, decay_steps=5:   0%|          | 0/40 [00:00<?, ?it/s]"
      ]
     },
     "metadata": {},
     "output_type": "display_data"
    },
    {
     "data": {
      "application/vnd.jupyter.widget-view+json": {
       "model_id": "879e261adbca4e6ea022859b487c584f",
       "version_major": 2,
       "version_minor": 0
      },
      "text/plain": [
       "Training | lam=1e-01, lr=0.0010, batch_size=4, decay_steps=10:   0%|          | 0/40 [00:00<?, ?it/s]"
      ]
     },
     "metadata": {},
     "output_type": "display_data"
    },
    {
     "data": {
      "application/vnd.jupyter.widget-view+json": {
       "model_id": "69b02b4f3c5341f081a3111f371594e8",
       "version_major": 2,
       "version_minor": 0
      },
      "text/plain": [
       "Training | lam=1e-01, lr=0.0010, batch_size=8, decay_steps=3:   0%|          | 0/40 [00:00<?, ?it/s]"
      ]
     },
     "metadata": {},
     "output_type": "display_data"
    },
    {
     "data": {
      "application/vnd.jupyter.widget-view+json": {
       "model_id": "436630cd390e4ff4bb406141a421a29c",
       "version_major": 2,
       "version_minor": 0
      },
      "text/plain": [
       "Training | lam=1e-01, lr=0.0010, batch_size=8, decay_steps=5:   0%|          | 0/40 [00:00<?, ?it/s]"
      ]
     },
     "metadata": {},
     "output_type": "display_data"
    },
    {
     "data": {
      "application/vnd.jupyter.widget-view+json": {
       "model_id": "e9711d34870a41729f183e976b0a3c7a",
       "version_major": 2,
       "version_minor": 0
      },
      "text/plain": [
       "Training | lam=1e-01, lr=0.0010, batch_size=8, decay_steps=10:   0%|          | 0/40 [00:00<?, ?it/s]"
      ]
     },
     "metadata": {},
     "output_type": "display_data"
    },
    {
     "data": {
      "application/vnd.jupyter.widget-view+json": {
       "model_id": "37e408fc38124b1e85e349b6644dac9b",
       "version_major": 2,
       "version_minor": 0
      },
      "text/plain": [
       "Training | lam=1e-01, lr=0.0010, batch_size=16, decay_steps=3:   0%|          | 0/40 [00:00<?, ?it/s]"
      ]
     },
     "metadata": {},
     "output_type": "display_data"
    },
    {
     "data": {
      "application/vnd.jupyter.widget-view+json": {
       "model_id": "9f09a90bbd0c45fdb438404e8201949d",
       "version_major": 2,
       "version_minor": 0
      },
      "text/plain": [
       "Training | lam=1e-01, lr=0.0010, batch_size=16, decay_steps=5:   0%|          | 0/40 [00:00<?, ?it/s]"
      ]
     },
     "metadata": {},
     "output_type": "display_data"
    },
    {
     "data": {
      "application/vnd.jupyter.widget-view+json": {
       "model_id": "f7dde0fbae804979a269e5d4e2d29333",
       "version_major": 2,
       "version_minor": 0
      },
      "text/plain": [
       "Training | lam=1e-01, lr=0.0010, batch_size=16, decay_steps=10:   0%|          | 0/40 [00:00<?, ?it/s]"
      ]
     },
     "metadata": {},
     "output_type": "display_data"
    },
    {
     "data": {
      "application/vnd.jupyter.widget-view+json": {
       "model_id": "e8ff68e583a54dfba002ce060aba3fd7",
       "version_major": 2,
       "version_minor": 0
      },
      "text/plain": [
       "Training | lam=1e-01, lr=0.0100, batch_size=4, decay_steps=3:   0%|          | 0/40 [00:00<?, ?it/s]"
      ]
     },
     "metadata": {},
     "output_type": "display_data"
    },
    {
     "data": {
      "application/vnd.jupyter.widget-view+json": {
       "model_id": "722981c375ba4ef9b7a7bc8e25f28e28",
       "version_major": 2,
       "version_minor": 0
      },
      "text/plain": [
       "Training | lam=1e-01, lr=0.0100, batch_size=4, decay_steps=5:   0%|          | 0/40 [00:00<?, ?it/s]"
      ]
     },
     "metadata": {},
     "output_type": "display_data"
    },
    {
     "data": {
      "application/vnd.jupyter.widget-view+json": {
       "model_id": "a901f88ad0ac4484921397e10a9f7135",
       "version_major": 2,
       "version_minor": 0
      },
      "text/plain": [
       "Training | lam=1e-01, lr=0.0100, batch_size=4, decay_steps=10:   0%|          | 0/40 [00:00<?, ?it/s]"
      ]
     },
     "metadata": {},
     "output_type": "display_data"
    },
    {
     "data": {
      "application/vnd.jupyter.widget-view+json": {
       "model_id": "32cf4134b42944fb86335fcc906deac4",
       "version_major": 2,
       "version_minor": 0
      },
      "text/plain": [
       "Training | lam=1e-01, lr=0.0100, batch_size=8, decay_steps=3:   0%|          | 0/40 [00:00<?, ?it/s]"
      ]
     },
     "metadata": {},
     "output_type": "display_data"
    },
    {
     "data": {
      "application/vnd.jupyter.widget-view+json": {
       "model_id": "ebe5e715a30f4213ad3d7af44fe14bb3",
       "version_major": 2,
       "version_minor": 0
      },
      "text/plain": [
       "Training | lam=1e-01, lr=0.0100, batch_size=8, decay_steps=5:   0%|          | 0/40 [00:00<?, ?it/s]"
      ]
     },
     "metadata": {},
     "output_type": "display_data"
    },
    {
     "data": {
      "application/vnd.jupyter.widget-view+json": {
       "model_id": "acc5b503f9f84fd0b851da9831e49191",
       "version_major": 2,
       "version_minor": 0
      },
      "text/plain": [
       "Training | lam=1e-01, lr=0.0100, batch_size=8, decay_steps=10:   0%|          | 0/40 [00:00<?, ?it/s]"
      ]
     },
     "metadata": {},
     "output_type": "display_data"
    },
    {
     "data": {
      "application/vnd.jupyter.widget-view+json": {
       "model_id": "32855ca95f2e4c94a93eabcf0a5e75fc",
       "version_major": 2,
       "version_minor": 0
      },
      "text/plain": [
       "Training | lam=1e-01, lr=0.0100, batch_size=16, decay_steps=3:   0%|          | 0/40 [00:00<?, ?it/s]"
      ]
     },
     "metadata": {},
     "output_type": "display_data"
    },
    {
     "data": {
      "application/vnd.jupyter.widget-view+json": {
       "model_id": "6bbc3341de5b4cafa24f41caf9c41d16",
       "version_major": 2,
       "version_minor": 0
      },
      "text/plain": [
       "Training | lam=1e-01, lr=0.0100, batch_size=16, decay_steps=5:   0%|          | 0/40 [00:00<?, ?it/s]"
      ]
     },
     "metadata": {},
     "output_type": "display_data"
    },
    {
     "data": {
      "application/vnd.jupyter.widget-view+json": {
       "model_id": "5f4f91cae1df446a8624571ac89a4b30",
       "version_major": 2,
       "version_minor": 0
      },
      "text/plain": [
       "Training | lam=1e-01, lr=0.0100, batch_size=16, decay_steps=10:   0%|          | 0/40 [00:00<?, ?it/s]"
      ]
     },
     "metadata": {},
     "output_type": "display_data"
    },
    {
     "data": {
      "application/vnd.jupyter.widget-view+json": {
       "model_id": "6228b0e285684e4f81ba431aeccce76d",
       "version_major": 2,
       "version_minor": 0
      },
      "text/plain": [
       "Training | lam=1e-01, lr=0.1000, batch_size=4, decay_steps=3:   0%|          | 0/40 [00:00<?, ?it/s]"
      ]
     },
     "metadata": {},
     "output_type": "display_data"
    },
    {
     "data": {
      "application/vnd.jupyter.widget-view+json": {
       "model_id": "dc446f51771849e199f206d3f5356e9a",
       "version_major": 2,
       "version_minor": 0
      },
      "text/plain": [
       "Training | lam=1e-01, lr=0.1000, batch_size=4, decay_steps=5:   0%|          | 0/40 [00:00<?, ?it/s]"
      ]
     },
     "metadata": {},
     "output_type": "display_data"
    },
    {
     "data": {
      "application/vnd.jupyter.widget-view+json": {
       "model_id": "010ca7d3532e4ae38dfed947f2631e75",
       "version_major": 2,
       "version_minor": 0
      },
      "text/plain": [
       "Training | lam=1e-01, lr=0.1000, batch_size=4, decay_steps=10:   0%|          | 0/40 [00:00<?, ?it/s]"
      ]
     },
     "metadata": {},
     "output_type": "display_data"
    },
    {
     "data": {
      "application/vnd.jupyter.widget-view+json": {
       "model_id": "8c09b75a8ad649c8b8ee5aa4237d4efd",
       "version_major": 2,
       "version_minor": 0
      },
      "text/plain": [
       "Training | lam=1e-01, lr=0.1000, batch_size=8, decay_steps=3:   0%|          | 0/40 [00:00<?, ?it/s]"
      ]
     },
     "metadata": {},
     "output_type": "display_data"
    },
    {
     "data": {
      "application/vnd.jupyter.widget-view+json": {
       "model_id": "cd4c5aaea2c14494851c638c33b6c743",
       "version_major": 2,
       "version_minor": 0
      },
      "text/plain": [
       "Training | lam=1e-01, lr=0.1000, batch_size=8, decay_steps=5:   0%|          | 0/40 [00:00<?, ?it/s]"
      ]
     },
     "metadata": {},
     "output_type": "display_data"
    },
    {
     "data": {
      "application/vnd.jupyter.widget-view+json": {
       "model_id": "92e7b03d5b624c15b1626f13ac1781af",
       "version_major": 2,
       "version_minor": 0
      },
      "text/plain": [
       "Training | lam=1e-01, lr=0.1000, batch_size=8, decay_steps=10:   0%|          | 0/40 [00:00<?, ?it/s]"
      ]
     },
     "metadata": {},
     "output_type": "display_data"
    },
    {
     "data": {
      "application/vnd.jupyter.widget-view+json": {
       "model_id": "abd1760df1db415a942f114e316c0e7f",
       "version_major": 2,
       "version_minor": 0
      },
      "text/plain": [
       "Training | lam=1e-01, lr=0.1000, batch_size=16, decay_steps=3:   0%|          | 0/40 [00:00<?, ?it/s]"
      ]
     },
     "metadata": {},
     "output_type": "display_data"
    },
    {
     "data": {
      "application/vnd.jupyter.widget-view+json": {
       "model_id": "57e719b033494477abcaffc255ff4771",
       "version_major": 2,
       "version_minor": 0
      },
      "text/plain": [
       "Training | lam=1e-01, lr=0.1000, batch_size=16, decay_steps=5:   0%|          | 0/40 [00:00<?, ?it/s]"
      ]
     },
     "metadata": {},
     "output_type": "display_data"
    },
    {
     "data": {
      "application/vnd.jupyter.widget-view+json": {
       "model_id": "7a367192ec1b41fd84f926434b29a19f",
       "version_major": 2,
       "version_minor": 0
      },
      "text/plain": [
       "Training | lam=1e-01, lr=0.1000, batch_size=16, decay_steps=10:   0%|          | 0/40 [00:00<?, ?it/s]"
      ]
     },
     "metadata": {},
     "output_type": "display_data"
    }
   ],
   "source": [
    "\n",
    "\n",
    "# ---------- grid search ----------\n",
    "lams = [0.001, 0.01, 0.1]\n",
    "lrs = [0.001, 0.01, 0.1]\n",
    "ns_batch = [4, 8, 16]\n",
    "decays_steps = [3, 5, 10]\n",
    "accs = []\n",
    "all_losses = {}\n",
    "best_val_loss = float('inf')\n",
    "best_config = None\n",
    "\n",
    "# Store results in a structured way for the heatmap\n",
    "accuracy_results = np.zeros((len(lams), len(lrs), len(ns_batch), len(decays_steps)))\n",
    "\n",
    "for i, lam in enumerate(lams):\n",
    "    for j, lr in enumerate(lrs):\n",
    "        for k, n_batch in enumerate(ns_batch):\n",
    "            for z, decays_step in enumerate(decays_steps):\n",
    "                model = Network([X_train.shape[0], Y_train.shape[0]], sigmoid, multiple_cross_entropy)\n",
    "                losses = model.train(X_train, Y_train, X_val, Y_val, lam=lam, lr=lr, n_batch=n_batch, decay_steps=decays_step, augmentation=True)\n",
    "                                \n",
    "                # Track the best configuration\n",
    "                final_val_loss = losses[\"val\"][max(losses[\"val\"].keys())]\n",
    "                val_losses[i, j, k, z] = final_val_loss\n",
    "\n"
   ]
  },
  {
   "cell_type": "code",
   "execution_count": 6,
   "metadata": {},
   "outputs": [
    {
     "name": "stdout",
     "output_type": "stream",
     "text": [
      "\\begin{table}[h]\n",
      "\\centering\n",
      "\\begin{tabular}{|c|c|c|c|c|c|}\n",
      "\\hline\n",
      "Rank & Accuracy & $\\lambda$ & $\\eta$ & Batch Size & Decay Steps \\\\\n",
      "\\hline\n",
      "1 & 0.4232 & 1.0e-03 & 1.0e-02 & 4 & 3 \\\\\n",
      "\\hline\n",
      "2 & 0.4208 & 1.0e-03 & 1.0e-02 & 16 & 5 \\\\\n",
      "\\hline\n",
      "3 & 0.4207 & 1.0e-03 & 1.0e-02 & 4 & 5 \\\\\n",
      "\\hline\n",
      "4 & 0.4204 & 1.0e-03 & 1.0e-02 & 8 & 5 \\\\\n",
      "\\hline\n",
      "5 & 0.4203 & 1.0e-03 & 1.0e-02 & 8 & 10 \\\\\n",
      "\\hline\n",
      "6 & 0.4202 & 1.0e-03 & 1.0e-02 & 16 & 10 \\\\\n",
      "\\hline\n",
      "7 & 0.4200 & 1.0e-03 & 1.0e-01 & 16 & 3 \\\\\n",
      "\\hline\n",
      "8 & 0.4194 & 1.0e-03 & 1.0e-01 & 8 & 3 \\\\\n",
      "\\hline\n",
      "9 & 0.4191 & 1.0e-03 & 1.0e-01 & 8 & 5 \\\\\n",
      "\\hline\n",
      "10 & 0.4191 & 1.0e-03 & 1.0e-01 & 16 & 5 \\\\\n",
      "\\hline\n",
      "\\end{tabular}\n",
      "\\caption{Top 10 configurations ranked by accuracy}\n",
      "\\label{tab:top_configs}\n",
      "\\end{table}\n"
     ]
    }
   ],
   "source": [
    "# Create a list of all configurations and their validation losses\n",
    "soft_configs = []\n",
    "for i, lam in enumerate(lams):\n",
    "    for j, lr in enumerate(lrs):\n",
    "        for k, n_batch in enumerate(ns_batch):\n",
    "            for z, decays_step in enumerate(decays_steps):\n",
    "                soft_configs.append({\n",
    "                    'lambda': lam,\n",
    "                    'learning_rate': lr,\n",
    "                    'batch_size': n_batch,\n",
    "                    'decay_steps': decays_step,\n",
    "                    'val_loss': val_losses[i, j, k, z]\n",
    "                })\n",
    "\n",
    "# Sort configurations by validation loss in descending order\n",
    "sorted_configs = sorted(soft_configs, key=lambda x: x['val_loss'], reverse=True)\n",
    "\n",
    "# Print LaTeX table\n",
    "print(r\"\\begin{table}[h]\")\n",
    "print(r\"\\centering\")\n",
    "print(r\"\\begin{tabular}{|c|c|c|c|c|c|}\")\n",
    "print(r\"\\hline\")\n",
    "print(r\"Rank & val_loss & $\\lambda$ & $\\eta$ & Batch Size & Decay Steps \\\\\")\n",
    "print(r\"\\hline\")\n",
    "for i, config in enumerate(sorted_configs[:10]):\n",
    "    print(f\"{i+1} & {config['val_loss']:.4f} & {config['lambda']:.1e} & {config['learning_rate']:.1e} & {config['batch_size']} & {config['decay_steps']} \\\\\\\\\")\n",
    "    print(r\"\\hline\")\n",
    "print(r\"\\end{tabular}\")\n",
    "print(r\"\\caption{Top 10 configurations ranked by validation loss}\")\n",
    "print(r\"\\label{tab:top_configs}\")\n",
    "print(r\"\\end{table}\")"
   ]
  },
  {
   "cell_type": "code",
   "execution_count": 10,
   "metadata": {},
   "outputs": [
    {
     "data": {
      "application/vnd.jupyter.widget-view+json": {
       "model_id": "acf453502956468aad4a114e9fb3bab7",
       "version_major": 2,
       "version_minor": 0
      },
      "text/plain": [
       "Training | lam=1e-02, lr=0.0100, batch_size=16, decay_steps=3:   0%|          | 0/40 [00:00<?, ?it/s]"
      ]
     },
     "metadata": {},
     "output_type": "display_data"
    },
    {
     "data": {
      "application/vnd.jupyter.widget-view+json": {
       "model_id": "581c48b2b8284969ad2b01e27a0b56f4",
       "version_major": 2,
       "version_minor": 0
      },
      "text/plain": [
       "Training | lam=1e-03, lr=0.0100, batch_size=4, decay_steps=3:   0%|          | 0/40 [00:00<?, ?it/s]"
      ]
     },
     "metadata": {},
     "output_type": "display_data"
    }
   ],
   "source": [
    "d = {'P': [], 'type': []}\n",
    "df = pd.DataFrame(data=d)\n",
    "# ---------- softmax best model ----------\n",
    "model_soft = Network([X.shape[0], Y.shape[0]])\n",
    "soft_losses = model_soft.train(X_train, Y_train, X_val, Y_val, n_batch=16, lr=1e-2, lam=1e-2, decay_steps=3, augmentation=True)\n",
    "\n",
    "\n",
    "# ---------- sigmoid best model ----------\n",
    "model_sigm = Network([X.shape[0], Y.shape[0]], sigmoid, multiple_cross_entropy)\n",
    "sigm_losses = model_sigm.train(X_train, Y_train, X_val, Y_val, n_batch=4, lr=1e-2, lam=1e-3, decay_steps=3, augmentation=True)\n",
    "\n"
   ]
  },
  {
   "cell_type": "code",
   "execution_count": null,
   "metadata": {},
   "outputs": [
    {
     "data": {
      "image/png": "[encoded data removed]",
      "text/plain": [
       "<Figure size 1200x1000 with 2 Axes>"
      ]
     },
     "metadata": {},
     "output_type": "display_data"
    }
   ],
   "source": [
    "# For softmax model\n",
    "P_softmax = model_soft.forward(X_test)  # (K,n)\n",
    "guess_softmax = np.argmax(P_softmax, axis=0)\n",
    "correct_mask_soft = guess_softmax == y_test\n",
    "\n",
    "# Manually extract the probability for each true class\n",
    "prob_true_class_soft = np.zeros(len(y_test))\n",
    "for i in range(len(y_test)):\n",
    "    prob_true_class_soft[i] = P_softmax[int(y_test[i]), i]\n",
    "\n",
    "# For sigmoid model\n",
    "P_sigm = model_sigm.forward(X_test)  # (K,n)\n",
    "guess_sigm = np.argmax(P_sigm, axis=0)\n",
    "correct_mask_sigm = guess_sigm == y_test\n",
    "\n",
    "# Manually extract the probability for each true class\n",
    "prob_true_class_sigm = np.zeros(len(y_test))\n",
    "for i in range(len(y_test)):\n",
    "    prob_true_class_sigm[i] = P_sigm[int(y_test[i]), i]\n",
    "\n",
    "# Now plot the histograms\n",
    "fig, axes = plt.subplots(2, 1, figsize=(12, 10))\n",
    "\n",
    "# Top plot - Softmax\n",
    "axes[0].hist(prob_true_class_soft[correct_mask_soft], bins=20, alpha=0.7, color='blue', label='Correct')\n",
    "axes[0].hist(prob_true_class_soft[~correct_mask_soft], bins=20, alpha=0.7, color='red', label='Incorrect')\n",
    "axes[0].set_title('Softmax: Probability Distribution for Ground Truth Class', fontsize=14)\n",
    "axes[0].set_xlabel('Probability for Ground Truth Class')\n",
    "axes[0].set_ylabel('Count')\n",
    "axes[0].legend()\n",
    "\n",
    "# Bottom plot - Sigmoid\n",
    "axes[1].hist(prob_true_class_sigm[correct_mask_sigm], bins=20, alpha=0.7, color='blue', label='Correct')\n",
    "axes[1].hist(prob_true_class_sigm[~correct_mask_sigm], bins=20, alpha=0.7, color='red', label='Incorrect')\n",
    "axes[1].set_title('Sigmoid: Probability Distribution for Ground Truth Class', fontsize=14)\n",
    "axes[1].set_xlabel('Probability for Ground Truth Class')\n",
    "axes[1].set_ylabel('Count')\n",
    "axes[1].legend()\n",
    "\n",
    "plt.tight_layout()\n",
    "plt.savefig('img/prob_plots.png')\n",
    "plt.show()"
   ]
  },
  {
   "cell_type": "code",
   "execution_count": null,
   "metadata": {},
   "outputs": [
    {
     "data": {
      "image/png": "[encoded data removed]",
      "text/plain": [
       "<Figure size 1200x500 with 2 Axes>"
      ]
     },
     "metadata": {},
     "output_type": "display_data"
    }
   ],
   "source": [
    "# Plot training and validation losses\n",
    "plt.figure(figsize=(12, 5))\n",
    "\n",
    "# Plot for softmax model\n",
    "plt.subplot(1, 2, 1)\n",
    "train_loss_soft = list(soft_losses[\"train\"].values())\n",
    "val_loss_soft = list(soft_losses[\"val\"].values())\n",
    "epochs = range(len(train_loss_soft))\n",
    "plt.plot(epochs, train_loss_soft, 'b-', label='Training loss')\n",
    "plt.plot(epochs, val_loss_soft, 'r-', label='Validation loss')\n",
    "plt.title('Training and Validation Loss (Softmax)')\n",
    "plt.xlabel('Epochs')\n",
    "plt.ylabel('Loss')\n",
    "plt.legend()\n",
    "\n",
    "# Plot for sigmoid model\n",
    "plt.subplot(1, 2, 2)\n",
    "train_loss_sigm = list(sigm_losses[\"train\"].values())\n",
    "val_loss_sigm = list(sigm_losses[\"val\"].values())\n",
    "epochs = range(len(train_loss_sigm))\n",
    "plt.plot(epochs, train_loss_sigm, 'b-', label='Training loss')\n",
    "plt.plot(epochs, val_loss_sigm, 'r-', label='Validation loss')\n",
    "plt.title('Training and Validation Loss (Sigmoid)')\n",
    "plt.xlabel('Epochs')\n",
    "plt.ylabel('Loss')\n",
    "plt.legend()\n",
    "\n",
    "plt.tight_layout()\n",
    "plt.savefig('img/loss_plots.png')\n",
    "plt.show()"
   ]
  }
 ],
 "metadata": {
  "kernelspec": {
   "display_name": ".venv",
   "language": "python",
   "name": "python3"
  },
  "language_info": {
   "codemirror_mode": {
    "name": "ipython",
    "version": 3
   },
   "file_extension": ".py",
   "mimetype": "text/x-python",
   "name": "python",
   "nbconvert_exporter": "python",
   "pygments_lexer": "ipython3",
   "version": "3.11.11"
  }
 },
 "nbformat": 4,
 "nbformat_minor": 2
}

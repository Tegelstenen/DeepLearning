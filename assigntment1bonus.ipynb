{
 "cells": [
  {
   "cell_type": "code",
   "execution_count": 1,
   "metadata": {},
   "outputs": [],
   "source": [
    "import numpy as np\n",
    "import matplotlib.pyplot as plt\n",
    "import pandas as pd\n",
    "\n",
    "from src.data import load_batch, get_moments, normalize, load_all_train_data\n",
    "from src.model import Network\n",
    "from src.utils import sigmoid, multiple_cross_entropy\n",
    "\n",
    "np.random.seed(42)"
   ]
  },
  {
   "cell_type": "code",
   "execution_count": 2,
   "metadata": {},
   "outputs": [],
   "source": [
    "# ---------- get data ----------\n",
    "X, Y, y = load_all_train_data()\n",
    "\n",
    "N = X.shape[1]\n",
    "val_indices = np.random.choice(N, size=1000, replace=False)\n",
    "train_mask = np.ones(N, dtype=bool)\n",
    "train_mask[val_indices] = False\n",
    "\n",
    "X_train, X_val = X[:, train_mask], X[:, val_indices]\n",
    "Y_train, Y_val = Y[:, train_mask], Y[:, val_indices]\n",
    "y_train, y_val = y[train_mask], y[val_indices]\n",
    "\n",
    "X_test, Y_test, y_test = load_batch(\"datasets/cifar-10-batches-py/test_batch\")\n",
    "\n",
    "mean_X, std_X = get_moments(X_train)\n",
    "X_train = normalize(X_train, mean_X, std_X)\n",
    "X_val = normalize(X_val, mean_X, std_X)\n",
    "X_test = normalize(X_test, mean_X, std_X)"
   ]
  },
  {
   "cell_type": "code",
   "execution_count": null,
   "metadata": {},
   "outputs": [
    {
     "data": {
      "application/vnd.jupyter.widget-view+json": {
       "model_id": "613fd2aeec5f4365863472fc10696df3",
       "version_major": 2,
       "version_minor": 0
      },
      "text/plain": [
       "Training | lam=1e-03, lr=0.0010, batch_size=4, decay_steps=3:   0%|          | 0/40 [00:00<?, ?it/s]"
      ]
     },
     "metadata": {},
     "output_type": "display_data"
    },
    {
     "data": {
      "application/vnd.jupyter.widget-view+json": {
       "model_id": "340504d04a9841378f69a264604a844f",
       "version_major": 2,
       "version_minor": 0
      },
      "text/plain": [
       "Training | lam=1e-03, lr=0.0010, batch_size=4, decay_steps=5:   0%|          | 0/40 [00:00<?, ?it/s]"
      ]
     },
     "metadata": {},
     "output_type": "display_data"
    },
    {
     "data": {
      "application/vnd.jupyter.widget-view+json": {
       "model_id": "14c565e2f31747619a03c53e1d73f3f8",
       "version_major": 2,
       "version_minor": 0
      },
      "text/plain": [
       "Training | lam=1e-03, lr=0.0010, batch_size=4, decay_steps=10:   0%|          | 0/40 [00:00<?, ?it/s]"
      ]
     },
     "metadata": {},
     "output_type": "display_data"
    }
   ],
   "source": [
    "# ---------- grid search ----------\n",
    "lams = [0.001, 0.01, 0.1]\n",
    "lrs = [0.001, 0.01, 0.1]\n",
    "ns_batch = [4, 8, 16]\n",
    "decays_steps = [3, 5, 10]\n",
    "accs = []\n",
    "all_losses = {}\n",
    "best_val_loss = float('inf')\n",
    "best_config = None\n",
    "\n",
    "# Store results in a structured way for the heatmap\n",
    "accuracy_results = np.zeros((len(lams), len(lrs), len(ns_batch), len(decays_steps)))\n",
    "\n",
    "for i, lam in enumerate(lams):\n",
    "    for j, lr in enumerate(lrs):\n",
    "        for k, n_batch in enumerate(ns_batch):\n",
    "            for z, decays_step in enumerate(decays_steps):\n",
    "                model = Network([X_train.shape[0], Y_train.shape[0]])\n",
    "                losses = model.train(X_train, Y_train, X_val, Y_val, lam=lam, lr=lr, n_batch=n_batch, decay_steps=decays_step, augmentation=True)\n",
    "                \n",
    "                # Calculate accuracy and store results\n",
    "                acc = model.accuracy(X_test, y_test)\n",
    "                accs.append(acc)\n",
    "                all_losses[f\"{lam}_{lr}_{n_batch}_{decays_step}\"] = losses\n",
    "                accuracy_results[i, j, k, z] = acc\n",
    "                \n",
    "                # Track the best configuration\n",
    "                final_val_loss = losses[\"val\"][max(losses[\"val\"].keys())]\n",
    "                if final_val_loss < best_val_loss:\n",
    "                    best_val_loss = final_val_loss\n",
    "                    best_config_sigmoid = (lam, lr, n_batch, decays_step)"
   ]
  },
  {
   "cell_type": "code",
   "execution_count": 4,
   "metadata": {},
   "outputs": [
    {
     "name": "stdout",
     "output_type": "stream",
     "text": [
      "\\begin{table}[h]\n",
      "\\centering\n",
      "\\begin{tabular}{|c|c|c|c|c|c|}\n",
      "\\hline\n",
      "Rank & Accuracy & $\\lambda$ & $\\eta$ & Batch Size & Decay Steps \\\\\n",
      "\\hline\n",
      "1 & 0.4186 & 1.0e-03 & 1.0e-02 & 4 & 5 \\\\\n",
      "\\hline\n",
      "2 & 0.4178 & 1.0e-03 & 1.0e-02 & 16 & 10 \\\\\n",
      "\\hline\n",
      "3 & 0.4172 & 1.0e-03 & 1.0e-02 & 8 & 5 \\\\\n",
      "\\hline\n",
      "4 & 0.4155 & 1.0e-03 & 1.0e-02 & 4 & 3 \\\\\n",
      "\\hline\n",
      "5 & 0.4151 & 1.0e-03 & 1.0e-02 & 16 & 5 \\\\\n",
      "\\hline\n",
      "6 & 0.4136 & 1.0e-03 & 1.0e-01 & 16 & 10 \\\\\n",
      "\\hline\n",
      "7 & 0.4133 & 1.0e-03 & 1.0e-01 & 16 & 5 \\\\\n",
      "\\hline\n",
      "8 & 0.4128 & 1.0e-03 & 1.0e-03 & 4 & 10 \\\\\n",
      "\\hline\n",
      "9 & 0.4128 & 1.0e-03 & 1.0e-02 & 8 & 3 \\\\\n",
      "\\hline\n",
      "10 & 0.4115 & 1.0e-03 & 1.0e-02 & 16 & 3 \\\\\n",
      "\\hline\n",
      "\\end{tabular}\n",
      "\\caption{Top 10 configurations ranked by accuracy}\n",
      "\\label{tab:top_configs}\n",
      "\\end{table}\n"
     ]
    }
   ],
   "source": [
    "# Create a list of all configurations and their accuracies\n",
    "configs = []\n",
    "for i, lam in enumerate(lams):\n",
    "    for j, lr in enumerate(lrs):\n",
    "        for k, n_batch in enumerate(ns_batch):\n",
    "            for z, decays_step in enumerate(decays_steps):\n",
    "                configs.append({\n",
    "                    'lambda': lam,\n",
    "                    'learning_rate': lr,\n",
    "                    'batch_size': n_batch,\n",
    "                    'decay_steps': decays_step,\n",
    "                    'accuracy': accuracy_results[i, j, k, z]\n",
    "                })\n",
    "\n",
    "# Sort configurations by accuracy in descending order\n",
    "sorted_configs = sorted(configs, key=lambda x: x['accuracy'], reverse=True)\n",
    "\n",
    "# Print LaTeX table\n",
    "print(r\"\\begin{table}[h]\")\n",
    "print(r\"\\centering\")\n",
    "print(r\"\\begin{tabular}{|c|c|c|c|c|c|}\")\n",
    "print(r\"\\hline\")\n",
    "print(r\"Rank & Accuracy & $\\lambda$ & $\\eta$ & Batch Size & Decay Steps \\\\\")\n",
    "print(r\"\\hline\")\n",
    "for i, config in enumerate(sorted_configs[:10]):\n",
    "    print(f\"{i+1} & {config['accuracy']:.4f} & {config['lambda']:.1e} & {config['learning_rate']:.1e} & {config['batch_size']} & {config['decay_steps']} \\\\\\\\\")\n",
    "    print(r\"\\hline\")\n",
    "print(r\"\\end{tabular}\")\n",
    "print(r\"\\caption{Top 10 configurations ranked by accuracy}\")\n",
    "print(r\"\\label{tab:top_configs}\")\n",
    "print(r\"\\end{table}\")"
   ]
  },
  {
   "cell_type": "code",
   "execution_count": 5,
   "metadata": {},
   "outputs": [
    {
     "data": {
      "application/vnd.jupyter.widget-view+json": {
       "model_id": "87572db1a1c54502ad47f935fa13f13d",
       "version_major": 2,
       "version_minor": 0
      },
      "text/plain": [
       "Training | lam=1e-03, lr=0.0010, batch_size=4, decay_steps=3:   0%|          | 0/40 [00:00<?, ?it/s]"
      ]
     },
     "metadata": {},
     "output_type": "display_data"
    },
    {
     "data": {
      "application/vnd.jupyter.widget-view+json": {
       "model_id": "16950e77cfef41dda2ed5d34b98d334b",
       "version_major": 2,
       "version_minor": 0
      },
      "text/plain": [
       "Training | lam=1e-03, lr=0.0010, batch_size=4, decay_steps=5:   0%|          | 0/40 [00:00<?, ?it/s]"
      ]
     },
     "metadata": {},
     "output_type": "display_data"
    },
    {
     "data": {
      "application/vnd.jupyter.widget-view+json": {
       "model_id": "afcf1233bfe84221b6f2e712faf2f9d6",
       "version_major": 2,
       "version_minor": 0
      },
      "text/plain": [
       "Training | lam=1e-03, lr=0.0010, batch_size=4, decay_steps=10:   0%|          | 0/40 [00:00<?, ?it/s]"
      ]
     },
     "metadata": {},
     "output_type": "display_data"
    },
    {
     "data": {
      "application/vnd.jupyter.widget-view+json": {
       "model_id": "b0bf5d7236d945dabfc3849b0705c7d6",
       "version_major": 2,
       "version_minor": 0
      },
      "text/plain": [
       "Training | lam=1e-03, lr=0.0010, batch_size=8, decay_steps=3:   0%|          | 0/40 [00:00<?, ?it/s]"
      ]
     },
     "metadata": {},
     "output_type": "display_data"
    },
    {
     "data": {
      "application/vnd.jupyter.widget-view+json": {
       "model_id": "0bd107ca10fb407e86ba3fc5522f298b",
       "version_major": 2,
       "version_minor": 0
      },
      "text/plain": [
       "Training | lam=1e-03, lr=0.0010, batch_size=8, decay_steps=5:   0%|          | 0/40 [00:00<?, ?it/s]"
      ]
     },
     "metadata": {},
     "output_type": "display_data"
    },
    {
     "data": {
      "application/vnd.jupyter.widget-view+json": {
       "model_id": "ad31ea0e45904e81aeebee4defe3f6c5",
       "version_major": 2,
       "version_minor": 0
      },
      "text/plain": [
       "Training | lam=1e-03, lr=0.0010, batch_size=8, decay_steps=10:   0%|          | 0/40 [00:00<?, ?it/s]"
      ]
     },
     "metadata": {},
     "output_type": "display_data"
    },
    {
     "data": {
      "application/vnd.jupyter.widget-view+json": {
       "model_id": "2b1bad49b0664dc49cb11e2d44c0d42a",
       "version_major": 2,
       "version_minor": 0
      },
      "text/plain": [
       "Training | lam=1e-03, lr=0.0010, batch_size=16, decay_steps=3:   0%|          | 0/40 [00:00<?, ?it/s]"
      ]
     },
     "metadata": {},
     "output_type": "display_data"
    },
    {
     "data": {
      "application/vnd.jupyter.widget-view+json": {
       "model_id": "a7563648896f4631b968aeb30ef19cb2",
       "version_major": 2,
       "version_minor": 0
      },
      "text/plain": [
       "Training | lam=1e-03, lr=0.0010, batch_size=16, decay_steps=5:   0%|          | 0/40 [00:00<?, ?it/s]"
      ]
     },
     "metadata": {},
     "output_type": "display_data"
    },
    {
     "data": {
      "application/vnd.jupyter.widget-view+json": {
       "model_id": "96d6baab23864a61b2d1bcfdb763502e",
       "version_major": 2,
       "version_minor": 0
      },
      "text/plain": [
       "Training | lam=1e-03, lr=0.0010, batch_size=16, decay_steps=10:   0%|          | 0/40 [00:00<?, ?it/s]"
      ]
     },
     "metadata": {},
     "output_type": "display_data"
    },
    {
     "data": {
      "application/vnd.jupyter.widget-view+json": {
       "model_id": "f90b44d9ad204fda99161b6e6bc3a6bc",
       "version_major": 2,
       "version_minor": 0
      },
      "text/plain": [
       "Training | lam=1e-03, lr=0.0100, batch_size=4, decay_steps=3:   0%|          | 0/40 [00:00<?, ?it/s]"
      ]
     },
     "metadata": {},
     "output_type": "display_data"
    },
    {
     "data": {
      "application/vnd.jupyter.widget-view+json": {
       "model_id": "7d2c42585bbe4664986b38d2a55c3147",
       "version_major": 2,
       "version_minor": 0
      },
      "text/plain": [
       "Training | lam=1e-03, lr=0.0100, batch_size=4, decay_steps=5:   0%|          | 0/40 [00:00<?, ?it/s]"
      ]
     },
     "metadata": {},
     "output_type": "display_data"
    },
    {
     "data": {
      "application/vnd.jupyter.widget-view+json": {
       "model_id": "63a1366e94a7409695a3324562fb3a60",
       "version_major": 2,
       "version_minor": 0
      },
      "text/plain": [
       "Training | lam=1e-03, lr=0.0100, batch_size=4, decay_steps=10:   0%|          | 0/40 [00:00<?, ?it/s]"
      ]
     },
     "metadata": {},
     "output_type": "display_data"
    },
    {
     "data": {
      "application/vnd.jupyter.widget-view+json": {
       "model_id": "50f2ba1d99ef4d5b9a2475b1184ecd61",
       "version_major": 2,
       "version_minor": 0
      },
      "text/plain": [
       "Training | lam=1e-03, lr=0.0100, batch_size=8, decay_steps=3:   0%|          | 0/40 [00:00<?, ?it/s]"
      ]
     },
     "metadata": {},
     "output_type": "display_data"
    },
    {
     "data": {
      "application/vnd.jupyter.widget-view+json": {
       "model_id": "ff1fc59993b049438cd182f9a8f43737",
       "version_major": 2,
       "version_minor": 0
      },
      "text/plain": [
       "Training | lam=1e-03, lr=0.0100, batch_size=8, decay_steps=5:   0%|          | 0/40 [00:00<?, ?it/s]"
      ]
     },
     "metadata": {},
     "output_type": "display_data"
    },
    {
     "data": {
      "application/vnd.jupyter.widget-view+json": {
       "model_id": "602ea14949c74d63b3f109662b0d6729",
       "version_major": 2,
       "version_minor": 0
      },
      "text/plain": [
       "Training | lam=1e-03, lr=0.0100, batch_size=8, decay_steps=10:   0%|          | 0/40 [00:00<?, ?it/s]"
      ]
     },
     "metadata": {},
     "output_type": "display_data"
    },
    {
     "data": {
      "application/vnd.jupyter.widget-view+json": {
       "model_id": "ace1c98aa9ad4db2af5a8c4c7956082b",
       "version_major": 2,
       "version_minor": 0
      },
      "text/plain": [
       "Training | lam=1e-03, lr=0.0100, batch_size=16, decay_steps=3:   0%|          | 0/40 [00:00<?, ?it/s]"
      ]
     },
     "metadata": {},
     "output_type": "display_data"
    },
    {
     "data": {
      "application/vnd.jupyter.widget-view+json": {
       "model_id": "ed3bd6902a1546bb8a03f6f9d70da8c0",
       "version_major": 2,
       "version_minor": 0
      },
      "text/plain": [
       "Training | lam=1e-03, lr=0.0100, batch_size=16, decay_steps=5:   0%|          | 0/40 [00:00<?, ?it/s]"
      ]
     },
     "metadata": {},
     "output_type": "display_data"
    },
    {
     "data": {
      "application/vnd.jupyter.widget-view+json": {
       "model_id": "133fc50c2ae4466c9359a593d6179de4",
       "version_major": 2,
       "version_minor": 0
      },
      "text/plain": [
       "Training | lam=1e-03, lr=0.0100, batch_size=16, decay_steps=10:   0%|          | 0/40 [00:00<?, ?it/s]"
      ]
     },
     "metadata": {},
     "output_type": "display_data"
    },
    {
     "data": {
      "application/vnd.jupyter.widget-view+json": {
       "model_id": "a284976157234599913c47a9e9288734",
       "version_major": 2,
       "version_minor": 0
      },
      "text/plain": [
       "Training | lam=1e-03, lr=0.1000, batch_size=4, decay_steps=3:   0%|          | 0/40 [00:00<?, ?it/s]"
      ]
     },
     "metadata": {},
     "output_type": "display_data"
    },
    {
     "data": {
      "application/vnd.jupyter.widget-view+json": {
       "model_id": "02e9da3eb79546a39fc628828384bb31",
       "version_major": 2,
       "version_minor": 0
      },
      "text/plain": [
       "Training | lam=1e-03, lr=0.1000, batch_size=4, decay_steps=5:   0%|          | 0/40 [00:00<?, ?it/s]"
      ]
     },
     "metadata": {},
     "output_type": "display_data"
    },
    {
     "data": {
      "application/vnd.jupyter.widget-view+json": {
       "model_id": "ffb38eed7f694178acad46218daa7772",
       "version_major": 2,
       "version_minor": 0
      },
      "text/plain": [
       "Training | lam=1e-03, lr=0.1000, batch_size=4, decay_steps=10:   0%|          | 0/40 [00:00<?, ?it/s]"
      ]
     },
     "metadata": {},
     "output_type": "display_data"
    },
    {
     "data": {
      "application/vnd.jupyter.widget-view+json": {
       "model_id": "769745d80a1843678553453e0acf3ec0",
       "version_major": 2,
       "version_minor": 0
      },
      "text/plain": [
       "Training | lam=1e-03, lr=0.1000, batch_size=8, decay_steps=3:   0%|          | 0/40 [00:00<?, ?it/s]"
      ]
     },
     "metadata": {},
     "output_type": "display_data"
    },
    {
     "data": {
      "application/vnd.jupyter.widget-view+json": {
       "model_id": "3f42c590123b4ed28fe20f75384d2ab1",
       "version_major": 2,
       "version_minor": 0
      },
      "text/plain": [
       "Training | lam=1e-03, lr=0.1000, batch_size=8, decay_steps=5:   0%|          | 0/40 [00:00<?, ?it/s]"
      ]
     },
     "metadata": {},
     "output_type": "display_data"
    },
    {
     "data": {
      "application/vnd.jupyter.widget-view+json": {
       "model_id": "f5c28a81d77b4c76a1dbb127b56c78c2",
       "version_major": 2,
       "version_minor": 0
      },
      "text/plain": [
       "Training | lam=1e-03, lr=0.1000, batch_size=8, decay_steps=10:   0%|          | 0/40 [00:00<?, ?it/s]"
      ]
     },
     "metadata": {},
     "output_type": "display_data"
    },
    {
     "data": {
      "application/vnd.jupyter.widget-view+json": {
       "model_id": "d64db8d835e040cbab1c30aedc3d90ca",
       "version_major": 2,
       "version_minor": 0
      },
      "text/plain": [
       "Training | lam=1e-03, lr=0.1000, batch_size=16, decay_steps=3:   0%|          | 0/40 [00:00<?, ?it/s]"
      ]
     },
     "metadata": {},
     "output_type": "display_data"
    },
    {
     "data": {
      "application/vnd.jupyter.widget-view+json": {
       "model_id": "eda6941925504ac5bac601dddf2bc657",
       "version_major": 2,
       "version_minor": 0
      },
      "text/plain": [
       "Training | lam=1e-03, lr=0.1000, batch_size=16, decay_steps=5:   0%|          | 0/40 [00:00<?, ?it/s]"
      ]
     },
     "metadata": {},
     "output_type": "display_data"
    },
    {
     "data": {
      "application/vnd.jupyter.widget-view+json": {
       "model_id": "0754e2090c284200ad4842ba11b9c90a",
       "version_major": 2,
       "version_minor": 0
      },
      "text/plain": [
       "Training | lam=1e-03, lr=0.1000, batch_size=16, decay_steps=10:   0%|          | 0/40 [00:00<?, ?it/s]"
      ]
     },
     "metadata": {},
     "output_type": "display_data"
    },
    {
     "data": {
      "application/vnd.jupyter.widget-view+json": {
       "model_id": "c1616474046f4d0b98f7ff9adb1761b3",
       "version_major": 2,
       "version_minor": 0
      },
      "text/plain": [
       "Training | lam=1e-02, lr=0.0010, batch_size=4, decay_steps=3:   0%|          | 0/40 [00:00<?, ?it/s]"
      ]
     },
     "metadata": {},
     "output_type": "display_data"
    },
    {
     "data": {
      "application/vnd.jupyter.widget-view+json": {
       "model_id": "6eb38e7747e54cc890c52aabf3444de4",
       "version_major": 2,
       "version_minor": 0
      },
      "text/plain": [
       "Training | lam=1e-02, lr=0.0010, batch_size=4, decay_steps=5:   0%|          | 0/40 [00:00<?, ?it/s]"
      ]
     },
     "metadata": {},
     "output_type": "display_data"
    },
    {
     "data": {
      "application/vnd.jupyter.widget-view+json": {
       "model_id": "5675f52608f4433eab4e2b1f7851f625",
       "version_major": 2,
       "version_minor": 0
      },
      "text/plain": [
       "Training | lam=1e-02, lr=0.0010, batch_size=4, decay_steps=10:   0%|          | 0/40 [00:00<?, ?it/s]"
      ]
     },
     "metadata": {},
     "output_type": "display_data"
    },
    {
     "data": {
      "application/vnd.jupyter.widget-view+json": {
       "model_id": "a3967623a6ad4e398633f6b5c2ea379d",
       "version_major": 2,
       "version_minor": 0
      },
      "text/plain": [
       "Training | lam=1e-02, lr=0.0010, batch_size=8, decay_steps=3:   0%|          | 0/40 [00:00<?, ?it/s]"
      ]
     },
     "metadata": {},
     "output_type": "display_data"
    },
    {
     "data": {
      "application/vnd.jupyter.widget-view+json": {
       "model_id": "42f6230422784d16aaed1a856bcb95ab",
       "version_major": 2,
       "version_minor": 0
      },
      "text/plain": [
       "Training | lam=1e-02, lr=0.0010, batch_size=8, decay_steps=5:   0%|          | 0/40 [00:00<?, ?it/s]"
      ]
     },
     "metadata": {},
     "output_type": "display_data"
    },
    {
     "data": {
      "application/vnd.jupyter.widget-view+json": {
       "model_id": "2f2809218486460596deebd11f1f53ba",
       "version_major": 2,
       "version_minor": 0
      },
      "text/plain": [
       "Training | lam=1e-02, lr=0.0010, batch_size=8, decay_steps=10:   0%|          | 0/40 [00:00<?, ?it/s]"
      ]
     },
     "metadata": {},
     "output_type": "display_data"
    },
    {
     "data": {
      "application/vnd.jupyter.widget-view+json": {
       "model_id": "5b1b930201ad495fba7fb0c4dbd1115b",
       "version_major": 2,
       "version_minor": 0
      },
      "text/plain": [
       "Training | lam=1e-02, lr=0.0010, batch_size=16, decay_steps=3:   0%|          | 0/40 [00:00<?, ?it/s]"
      ]
     },
     "metadata": {},
     "output_type": "display_data"
    },
    {
     "data": {
      "application/vnd.jupyter.widget-view+json": {
       "model_id": "b5f6daac8d8349dfb1e4cf1ad0e3bc0d",
       "version_major": 2,
       "version_minor": 0
      },
      "text/plain": [
       "Training | lam=1e-02, lr=0.0010, batch_size=16, decay_steps=5:   0%|          | 0/40 [00:00<?, ?it/s]"
      ]
     },
     "metadata": {},
     "output_type": "display_data"
    },
    {
     "data": {
      "application/vnd.jupyter.widget-view+json": {
       "model_id": "7fb367e020c04d32bcbbec05d8ff89b5",
       "version_major": 2,
       "version_minor": 0
      },
      "text/plain": [
       "Training | lam=1e-02, lr=0.0010, batch_size=16, decay_steps=10:   0%|          | 0/40 [00:00<?, ?it/s]"
      ]
     },
     "metadata": {},
     "output_type": "display_data"
    },
    {
     "data": {
      "application/vnd.jupyter.widget-view+json": {
       "model_id": "74cbaabff5174fb0948d53be2b35d931",
       "version_major": 2,
       "version_minor": 0
      },
      "text/plain": [
       "Training | lam=1e-02, lr=0.0100, batch_size=4, decay_steps=3:   0%|          | 0/40 [00:00<?, ?it/s]"
      ]
     },
     "metadata": {},
     "output_type": "display_data"
    },
    {
     "data": {
      "application/vnd.jupyter.widget-view+json": {
       "model_id": "2e0499a69cc7459eb994506bbe92bb99",
       "version_major": 2,
       "version_minor": 0
      },
      "text/plain": [
       "Training | lam=1e-02, lr=0.0100, batch_size=4, decay_steps=5:   0%|          | 0/40 [00:00<?, ?it/s]"
      ]
     },
     "metadata": {},
     "output_type": "display_data"
    },
    {
     "data": {
      "application/vnd.jupyter.widget-view+json": {
       "model_id": "0ee49cc185c34402b191cee80822307e",
       "version_major": 2,
       "version_minor": 0
      },
      "text/plain": [
       "Training | lam=1e-02, lr=0.0100, batch_size=4, decay_steps=10:   0%|          | 0/40 [00:00<?, ?it/s]"
      ]
     },
     "metadata": {},
     "output_type": "display_data"
    },
    {
     "data": {
      "application/vnd.jupyter.widget-view+json": {
       "model_id": "9835c560f59646d8b95cff4bddc63ba2",
       "version_major": 2,
       "version_minor": 0
      },
      "text/plain": [
       "Training | lam=1e-02, lr=0.0100, batch_size=8, decay_steps=3:   0%|          | 0/40 [00:00<?, ?it/s]"
      ]
     },
     "metadata": {},
     "output_type": "display_data"
    },
    {
     "data": {
      "application/vnd.jupyter.widget-view+json": {
       "model_id": "ecc4aac5a8704524b5d8f171504649a2",
       "version_major": 2,
       "version_minor": 0
      },
      "text/plain": [
       "Training | lam=1e-02, lr=0.0100, batch_size=8, decay_steps=5:   0%|          | 0/40 [00:00<?, ?it/s]"
      ]
     },
     "metadata": {},
     "output_type": "display_data"
    },
    {
     "data": {
      "application/vnd.jupyter.widget-view+json": {
       "model_id": "0a94a0bb3bdc44d797fa4ad651e6ddc5",
       "version_major": 2,
       "version_minor": 0
      },
      "text/plain": [
       "Training | lam=1e-02, lr=0.0100, batch_size=8, decay_steps=10:   0%|          | 0/40 [00:00<?, ?it/s]"
      ]
     },
     "metadata": {},
     "output_type": "display_data"
    },
    {
     "data": {
      "application/vnd.jupyter.widget-view+json": {
       "model_id": "e3ea069f59764b19add4ba69805cf83c",
       "version_major": 2,
       "version_minor": 0
      },
      "text/plain": [
       "Training | lam=1e-02, lr=0.0100, batch_size=16, decay_steps=3:   0%|          | 0/40 [00:00<?, ?it/s]"
      ]
     },
     "metadata": {},
     "output_type": "display_data"
    },
    {
     "data": {
      "application/vnd.jupyter.widget-view+json": {
       "model_id": "88904653579846628c0f1ac1ee2ae9a3",
       "version_major": 2,
       "version_minor": 0
      },
      "text/plain": [
       "Training | lam=1e-02, lr=0.0100, batch_size=16, decay_steps=5:   0%|          | 0/40 [00:00<?, ?it/s]"
      ]
     },
     "metadata": {},
     "output_type": "display_data"
    },
    {
     "data": {
      "application/vnd.jupyter.widget-view+json": {
       "model_id": "b4fd80c5b64b498d84d5d240421663a9",
       "version_major": 2,
       "version_minor": 0
      },
      "text/plain": [
       "Training | lam=1e-02, lr=0.0100, batch_size=16, decay_steps=10:   0%|          | 0/40 [00:00<?, ?it/s]"
      ]
     },
     "metadata": {},
     "output_type": "display_data"
    },
    {
     "data": {
      "application/vnd.jupyter.widget-view+json": {
       "model_id": "88467f2bc7a4407fa8d244061a4fb319",
       "version_major": 2,
       "version_minor": 0
      },
      "text/plain": [
       "Training | lam=1e-02, lr=0.1000, batch_size=4, decay_steps=3:   0%|          | 0/40 [00:00<?, ?it/s]"
      ]
     },
     "metadata": {},
     "output_type": "display_data"
    },
    {
     "data": {
      "application/vnd.jupyter.widget-view+json": {
       "model_id": "fa0f601bff8f492d9e3e0c3373e63250",
       "version_major": 2,
       "version_minor": 0
      },
      "text/plain": [
       "Training | lam=1e-02, lr=0.1000, batch_size=4, decay_steps=5:   0%|          | 0/40 [00:00<?, ?it/s]"
      ]
     },
     "metadata": {},
     "output_type": "display_data"
    },
    {
     "data": {
      "application/vnd.jupyter.widget-view+json": {
       "model_id": "f3cd90976f044f8d89536cb718e9ca27",
       "version_major": 2,
       "version_minor": 0
      },
      "text/plain": [
       "Training | lam=1e-02, lr=0.1000, batch_size=4, decay_steps=10:   0%|          | 0/40 [00:00<?, ?it/s]"
      ]
     },
     "metadata": {},
     "output_type": "display_data"
    },
    {
     "data": {
      "application/vnd.jupyter.widget-view+json": {
       "model_id": "19aa18369f104481ba8d3a3c81dbc8fb",
       "version_major": 2,
       "version_minor": 0
      },
      "text/plain": [
       "Training | lam=1e-02, lr=0.1000, batch_size=8, decay_steps=3:   0%|          | 0/40 [00:00<?, ?it/s]"
      ]
     },
     "metadata": {},
     "output_type": "display_data"
    },
    {
     "data": {
      "application/vnd.jupyter.widget-view+json": {
       "model_id": "ba74d6b622984224a6a8db01a8b848ed",
       "version_major": 2,
       "version_minor": 0
      },
      "text/plain": [
       "Training | lam=1e-02, lr=0.1000, batch_size=8, decay_steps=5:   0%|          | 0/40 [00:00<?, ?it/s]"
      ]
     },
     "metadata": {},
     "output_type": "display_data"
    },
    {
     "data": {
      "application/vnd.jupyter.widget-view+json": {
       "model_id": "e183ed2ba3944ec8b8e937d6e82bd8a5",
       "version_major": 2,
       "version_minor": 0
      },
      "text/plain": [
       "Training | lam=1e-02, lr=0.1000, batch_size=8, decay_steps=10:   0%|          | 0/40 [00:00<?, ?it/s]"
      ]
     },
     "metadata": {},
     "output_type": "display_data"
    },
    {
     "data": {
      "application/vnd.jupyter.widget-view+json": {
       "model_id": "22d57eab17bb4cdbaac6e4f0f2ebf47f",
       "version_major": 2,
       "version_minor": 0
      },
      "text/plain": [
       "Training | lam=1e-02, lr=0.1000, batch_size=16, decay_steps=3:   0%|          | 0/40 [00:00<?, ?it/s]"
      ]
     },
     "metadata": {},
     "output_type": "display_data"
    },
    {
     "data": {
      "application/vnd.jupyter.widget-view+json": {
       "model_id": "959e469794dd48a4bd7278642822d56b",
       "version_major": 2,
       "version_minor": 0
      },
      "text/plain": [
       "Training | lam=1e-02, lr=0.1000, batch_size=16, decay_steps=5:   0%|          | 0/40 [00:00<?, ?it/s]"
      ]
     },
     "metadata": {},
     "output_type": "display_data"
    },
    {
     "data": {
      "application/vnd.jupyter.widget-view+json": {
       "model_id": "0b08077f2432451186c061aca618a661",
       "version_major": 2,
       "version_minor": 0
      },
      "text/plain": [
       "Training | lam=1e-02, lr=0.1000, batch_size=16, decay_steps=10:   0%|          | 0/40 [00:00<?, ?it/s]"
      ]
     },
     "metadata": {},
     "output_type": "display_data"
    },
    {
     "data": {
      "application/vnd.jupyter.widget-view+json": {
       "model_id": "9f5bf709a38b4e6984897e47dd004a88",
       "version_major": 2,
       "version_minor": 0
      },
      "text/plain": [
       "Training | lam=1e-01, lr=0.0010, batch_size=4, decay_steps=3:   0%|          | 0/40 [00:00<?, ?it/s]"
      ]
     },
     "metadata": {},
     "output_type": "display_data"
    },
    {
     "data": {
      "application/vnd.jupyter.widget-view+json": {
       "model_id": "6a6050d22b334b3b9fc8854fa135e298",
       "version_major": 2,
       "version_minor": 0
      },
      "text/plain": [
       "Training | lam=1e-01, lr=0.0010, batch_size=4, decay_steps=5:   0%|          | 0/40 [00:00<?, ?it/s]"
      ]
     },
     "metadata": {},
     "output_type": "display_data"
    },
    {
     "data": {
      "application/vnd.jupyter.widget-view+json": {
       "model_id": "dc4810dd83564059b5c370b3c84a567c",
       "version_major": 2,
       "version_minor": 0
      },
      "text/plain": [
       "Training | lam=1e-01, lr=0.0010, batch_size=4, decay_steps=10:   0%|          | 0/40 [00:00<?, ?it/s]"
      ]
     },
     "metadata": {},
     "output_type": "display_data"
    },
    {
     "data": {
      "application/vnd.jupyter.widget-view+json": {
       "model_id": "8bffe6fbaee84bdf888dd87fd063af48",
       "version_major": 2,
       "version_minor": 0
      },
      "text/plain": [
       "Training | lam=1e-01, lr=0.0010, batch_size=8, decay_steps=3:   0%|          | 0/40 [00:00<?, ?it/s]"
      ]
     },
     "metadata": {},
     "output_type": "display_data"
    },
    {
     "data": {
      "application/vnd.jupyter.widget-view+json": {
       "model_id": "70f0725d5df74044bd0ab2c55a680400",
       "version_major": 2,
       "version_minor": 0
      },
      "text/plain": [
       "Training | lam=1e-01, lr=0.0010, batch_size=8, decay_steps=5:   0%|          | 0/40 [00:00<?, ?it/s]"
      ]
     },
     "metadata": {},
     "output_type": "display_data"
    },
    {
     "data": {
      "application/vnd.jupyter.widget-view+json": {
       "model_id": "2155e11035ad4ba18c79df12860574b2",
       "version_major": 2,
       "version_minor": 0
      },
      "text/plain": [
       "Training | lam=1e-01, lr=0.0010, batch_size=8, decay_steps=10:   0%|          | 0/40 [00:00<?, ?it/s]"
      ]
     },
     "metadata": {},
     "output_type": "display_data"
    },
    {
     "data": {
      "application/vnd.jupyter.widget-view+json": {
       "model_id": "93003156a1c64def9ac89fb4534756cc",
       "version_major": 2,
       "version_minor": 0
      },
      "text/plain": [
       "Training | lam=1e-01, lr=0.0010, batch_size=16, decay_steps=3:   0%|          | 0/40 [00:00<?, ?it/s]"
      ]
     },
     "metadata": {},
     "output_type": "display_data"
    },
    {
     "data": {
      "application/vnd.jupyter.widget-view+json": {
       "model_id": "3f344258fab6457ca789f05dec46c9f5",
       "version_major": 2,
       "version_minor": 0
      },
      "text/plain": [
       "Training | lam=1e-01, lr=0.0010, batch_size=16, decay_steps=5:   0%|          | 0/40 [00:00<?, ?it/s]"
      ]
     },
     "metadata": {},
     "output_type": "display_data"
    },
    {
     "data": {
      "application/vnd.jupyter.widget-view+json": {
       "model_id": "80fd82ed35f34d448997b3154b1c6cea",
       "version_major": 2,
       "version_minor": 0
      },
      "text/plain": [
       "Training | lam=1e-01, lr=0.0010, batch_size=16, decay_steps=10:   0%|          | 0/40 [00:00<?, ?it/s]"
      ]
     },
     "metadata": {},
     "output_type": "display_data"
    },
    {
     "data": {
      "application/vnd.jupyter.widget-view+json": {
       "model_id": "fd2380260ded4425b55ccb4d32e3b314",
       "version_major": 2,
       "version_minor": 0
      },
      "text/plain": [
       "Training | lam=1e-01, lr=0.0100, batch_size=4, decay_steps=3:   0%|          | 0/40 [00:00<?, ?it/s]"
      ]
     },
     "metadata": {},
     "output_type": "display_data"
    },
    {
     "data": {
      "application/vnd.jupyter.widget-view+json": {
       "model_id": "946842fad6c348c9b42f6658da5b51cd",
       "version_major": 2,
       "version_minor": 0
      },
      "text/plain": [
       "Training | lam=1e-01, lr=0.0100, batch_size=4, decay_steps=5:   0%|          | 0/40 [00:00<?, ?it/s]"
      ]
     },
     "metadata": {},
     "output_type": "display_data"
    },
    {
     "data": {
      "application/vnd.jupyter.widget-view+json": {
       "model_id": "68530e70282343a5824201f469cdc4db",
       "version_major": 2,
       "version_minor": 0
      },
      "text/plain": [
       "Training | lam=1e-01, lr=0.0100, batch_size=4, decay_steps=10:   0%|          | 0/40 [00:00<?, ?it/s]"
      ]
     },
     "metadata": {},
     "output_type": "display_data"
    },
    {
     "data": {
      "application/vnd.jupyter.widget-view+json": {
       "model_id": "17b4bf00bc5c41639d57a1152cad6271",
       "version_major": 2,
       "version_minor": 0
      },
      "text/plain": [
       "Training | lam=1e-01, lr=0.0100, batch_size=8, decay_steps=3:   0%|          | 0/40 [00:00<?, ?it/s]"
      ]
     },
     "metadata": {},
     "output_type": "display_data"
    },
    {
     "data": {
      "application/vnd.jupyter.widget-view+json": {
       "model_id": "9d781b9ee4674f83a675b3e678b77e74",
       "version_major": 2,
       "version_minor": 0
      },
      "text/plain": [
       "Training | lam=1e-01, lr=0.0100, batch_size=8, decay_steps=5:   0%|          | 0/40 [00:00<?, ?it/s]"
      ]
     },
     "metadata": {},
     "output_type": "display_data"
    },
    {
     "data": {
      "application/vnd.jupyter.widget-view+json": {
       "model_id": "abbbc5c6a4b44e1d83fd6158b9b27a23",
       "version_major": 2,
       "version_minor": 0
      },
      "text/plain": [
       "Training | lam=1e-01, lr=0.0100, batch_size=8, decay_steps=10:   0%|          | 0/40 [00:00<?, ?it/s]"
      ]
     },
     "metadata": {},
     "output_type": "display_data"
    },
    {
     "data": {
      "application/vnd.jupyter.widget-view+json": {
       "model_id": "9622b2ae4da44cf6849e828bfbb94ece",
       "version_major": 2,
       "version_minor": 0
      },
      "text/plain": [
       "Training | lam=1e-01, lr=0.0100, batch_size=16, decay_steps=3:   0%|          | 0/40 [00:00<?, ?it/s]"
      ]
     },
     "metadata": {},
     "output_type": "display_data"
    },
    {
     "data": {
      "application/vnd.jupyter.widget-view+json": {
       "model_id": "3644a192504742a0996e7023723bd1c5",
       "version_major": 2,
       "version_minor": 0
      },
      "text/plain": [
       "Training | lam=1e-01, lr=0.0100, batch_size=16, decay_steps=5:   0%|          | 0/40 [00:00<?, ?it/s]"
      ]
     },
     "metadata": {},
     "output_type": "display_data"
    },
    {
     "data": {
      "application/vnd.jupyter.widget-view+json": {
       "model_id": "6890966e565749cb876e4c26b079c38f",
       "version_major": 2,
       "version_minor": 0
      },
      "text/plain": [
       "Training | lam=1e-01, lr=0.0100, batch_size=16, decay_steps=10:   0%|          | 0/40 [00:00<?, ?it/s]"
      ]
     },
     "metadata": {},
     "output_type": "display_data"
    },
    {
     "data": {
      "application/vnd.jupyter.widget-view+json": {
       "model_id": "a24f5634a53f43e29daaa1ef8b34d73c",
       "version_major": 2,
       "version_minor": 0
      },
      "text/plain": [
       "Training | lam=1e-01, lr=0.1000, batch_size=4, decay_steps=3:   0%|          | 0/40 [00:00<?, ?it/s]"
      ]
     },
     "metadata": {},
     "output_type": "display_data"
    },
    {
     "data": {
      "application/vnd.jupyter.widget-view+json": {
       "model_id": "5bf94bb4a30a4cef95a1eab867073cf6",
       "version_major": 2,
       "version_minor": 0
      },
      "text/plain": [
       "Training | lam=1e-01, lr=0.1000, batch_size=4, decay_steps=5:   0%|          | 0/40 [00:00<?, ?it/s]"
      ]
     },
     "metadata": {},
     "output_type": "display_data"
    },
    {
     "data": {
      "application/vnd.jupyter.widget-view+json": {
       "model_id": "db72946214e845c0a345ceb359537b37",
       "version_major": 2,
       "version_minor": 0
      },
      "text/plain": [
       "Training | lam=1e-01, lr=0.1000, batch_size=4, decay_steps=10:   0%|          | 0/40 [00:00<?, ?it/s]"
      ]
     },
     "metadata": {},
     "output_type": "display_data"
    },
    {
     "data": {
      "application/vnd.jupyter.widget-view+json": {
       "model_id": "19841ef3500e4782a915e5e27e446bce",
       "version_major": 2,
       "version_minor": 0
      },
      "text/plain": [
       "Training | lam=1e-01, lr=0.1000, batch_size=8, decay_steps=3:   0%|          | 0/40 [00:00<?, ?it/s]"
      ]
     },
     "metadata": {},
     "output_type": "display_data"
    },
    {
     "data": {
      "application/vnd.jupyter.widget-view+json": {
       "model_id": "b5036cd20e09416fa58ae430653a0b57",
       "version_major": 2,
       "version_minor": 0
      },
      "text/plain": [
       "Training | lam=1e-01, lr=0.1000, batch_size=8, decay_steps=5:   0%|          | 0/40 [00:00<?, ?it/s]"
      ]
     },
     "metadata": {},
     "output_type": "display_data"
    },
    {
     "data": {
      "application/vnd.jupyter.widget-view+json": {
       "model_id": "dc29bf18039043e7b82d8db68d557ce5",
       "version_major": 2,
       "version_minor": 0
      },
      "text/plain": [
       "Training | lam=1e-01, lr=0.1000, batch_size=8, decay_steps=10:   0%|          | 0/40 [00:00<?, ?it/s]"
      ]
     },
     "metadata": {},
     "output_type": "display_data"
    },
    {
     "data": {
      "application/vnd.jupyter.widget-view+json": {
       "model_id": "7f0adfadee624b5484356da6f6fdd37d",
       "version_major": 2,
       "version_minor": 0
      },
      "text/plain": [
       "Training | lam=1e-01, lr=0.1000, batch_size=16, decay_steps=3:   0%|          | 0/40 [00:00<?, ?it/s]"
      ]
     },
     "metadata": {},
     "output_type": "display_data"
    },
    {
     "data": {
      "application/vnd.jupyter.widget-view+json": {
       "model_id": "34ca80a4c07a4a80958c6ab3d8ad8d58",
       "version_major": 2,
       "version_minor": 0
      },
      "text/plain": [
       "Training | lam=1e-01, lr=0.1000, batch_size=16, decay_steps=5:   0%|          | 0/40 [00:00<?, ?it/s]"
      ]
     },
     "metadata": {},
     "output_type": "display_data"
    },
    {
     "data": {
      "application/vnd.jupyter.widget-view+json": {
       "model_id": "691a0d4d8e234d9dbc9319fd58249938",
       "version_major": 2,
       "version_minor": 0
      },
      "text/plain": [
       "Training | lam=1e-01, lr=0.1000, batch_size=16, decay_steps=10:   0%|          | 0/40 [00:00<?, ?it/s]"
      ]
     },
     "metadata": {},
     "output_type": "display_data"
    }
   ],
   "source": [
    "\n",
    "# ---------- grid search ----------\n",
    "lams = [0.001, 0.01, 0.1]\n",
    "lrs = [0.001, 0.01, 0.1]\n",
    "ns_batch = [4, 8, 16]\n",
    "decays_steps = [3, 5, 10]\n",
    "accs = []\n",
    "all_losses = {}\n",
    "best_val_loss = float('inf')\n",
    "best_config = None\n",
    "\n",
    "# Store results in a structured way for the heatmap\n",
    "accuracy_results = np.zeros((len(lams), len(lrs), len(ns_batch), len(decays_steps)))\n",
    "\n",
    "for i, lam in enumerate(lams):\n",
    "    for j, lr in enumerate(lrs):\n",
    "        for k, n_batch in enumerate(ns_batch):\n",
    "            for z, decays_step in enumerate(decays_steps):\n",
    "                model = Network([X_train.shape[0], Y_train.shape[0]], sigmoid, multiple_cross_entropy)\n",
    "                losses = model.train(X_train, Y_train, X_val, Y_val, lam=lam, lr=lr, n_batch=n_batch, decay_steps=decays_step, augmentation=True)\n",
    "                \n",
    "                # Calculate accuracy and store results\n",
    "                acc = model.accuracy(X_test, y_test)\n",
    "                accs.append(acc)\n",
    "                all_losses[f\"{lam}_{lr}_{n_batch}_{decays_step}\"] = losses\n",
    "                accuracy_results[i, j, k, z] = acc\n",
    "                \n",
    "                # Track the best configuration\n",
    "                final_val_loss = losses[\"val\"][max(losses[\"val\"].keys())]\n",
    "                if final_val_loss < best_val_loss:\n",
    "                    best_val_loss = final_val_loss\n",
    "\n"
   ]
  },
  {
   "cell_type": "code",
   "execution_count": 6,
   "metadata": {},
   "outputs": [
    {
     "name": "stdout",
     "output_type": "stream",
     "text": [
      "\\begin{table}[h]\n",
      "\\centering\n",
      "\\begin{tabular}{|c|c|c|c|c|c|}\n",
      "\\hline\n",
      "Rank & Accuracy & $\\lambda$ & $\\eta$ & Batch Size & Decay Steps \\\\\n",
      "\\hline\n",
      "1 & 0.4148 & 1.0e-03 & 1.0e-02 & 4 & 10 \\\\\n",
      "\\hline\n",
      "2 & 0.4119 & 1.0e-03 & 1.0e-01 & 4 & 3 \\\\\n",
      "\\hline\n",
      "3 & 0.4118 & 1.0e-03 & 1.0e-01 & 4 & 5 \\\\\n",
      "\\hline\n",
      "4 & 0.4104 & 1.0e-03 & 1.0e-01 & 8 & 3 \\\\\n",
      "\\hline\n",
      "5 & 0.4078 & 1.0e-03 & 1.0e-02 & 4 & 3 \\\\\n",
      "\\hline\n",
      "6 & 0.4069 & 1.0e-03 & 1.0e-01 & 8 & 5 \\\\\n",
      "\\hline\n",
      "7 & 0.4053 & 1.0e-03 & 1.0e-02 & 4 & 5 \\\\\n",
      "\\hline\n",
      "8 & 0.3988 & 1.0e-03 & 1.0e-02 & 8 & 10 \\\\\n",
      "\\hline\n",
      "9 & 0.3966 & 1.0e-03 & 1.0e-02 & 8 & 5 \\\\\n",
      "\\hline\n",
      "10 & 0.3966 & 1.0e-03 & 1.0e-01 & 16 & 3 \\\\\n",
      "\\hline\n",
      "\\end{tabular}\n",
      "\\caption{Top 10 configurations ranked by accuracy}\n",
      "\\label{tab:top_configs}\n",
      "\\end{table}\n"
     ]
    }
   ],
   "source": [
    "# Create a list of all configurations and their accuracies\n",
    "configs = []\n",
    "for i, lam in enumerate(lams):\n",
    "    for j, lr in enumerate(lrs):\n",
    "        for k, n_batch in enumerate(ns_batch):\n",
    "            for z, decays_step in enumerate(decays_steps):\n",
    "                configs.append({\n",
    "                    'lambda': lam,\n",
    "                    'learning_rate': lr,\n",
    "                    'batch_size': n_batch,\n",
    "                    'decay_steps': decays_step,\n",
    "                    'accuracy': accuracy_results[i, j, k, z]\n",
    "                })\n",
    "\n",
    "# Sort configurations by accuracy in descending order\n",
    "sorted_configs = sorted(configs, key=lambda x: x['accuracy'], reverse=True)\n",
    "\n",
    "# Print LaTeX table\n",
    "print(r\"\\begin{table}[h]\")\n",
    "print(r\"\\centering\")\n",
    "print(r\"\\begin{tabular}{|c|c|c|c|c|c|}\")\n",
    "print(r\"\\hline\")\n",
    "print(r\"Rank & Accuracy & $\\lambda$ & $\\eta$ & Batch Size & Decay Steps \\\\\")\n",
    "print(r\"\\hline\")\n",
    "for i, config in enumerate(sorted_configs[:10]):\n",
    "    print(f\"{i+1} & {config['accuracy']:.4f} & {config['lambda']:.1e} & {config['learning_rate']:.1e} & {config['batch_size']} & {config['decay_steps']} \\\\\\\\\")\n",
    "    print(r\"\\hline\")\n",
    "print(r\"\\end{tabular}\")\n",
    "print(r\"\\caption{Top 10 configurations ranked by accuracy}\")\n",
    "print(r\"\\label{tab:top_configs}\")\n",
    "print(r\"\\end{table}\")"
   ]
  },
  {
   "cell_type": "code",
   "execution_count": 4,
   "metadata": {},
   "outputs": [
    {
     "data": {
      "application/vnd.jupyter.widget-view+json": {
       "model_id": "9c32856073704692be44dfe7de6b05db",
       "version_major": 2,
       "version_minor": 0
      },
      "text/plain": [
       "Training | lam=1e-03, lr=0.0100, batch_size=4, decay_steps=5:   0%|          | 0/40 [00:00<?, ?it/s]"
      ]
     },
     "metadata": {},
     "output_type": "display_data"
    },
    {
     "data": {
      "application/vnd.jupyter.widget-view+json": {
       "model_id": "773602fa37604f138725147627c80555",
       "version_major": 2,
       "version_minor": 0
      },
      "text/plain": [
       "Training | lam=1e-03, lr=0.0100, batch_size=4, decay_steps=10:   0%|          | 0/40 [00:00<?, ?it/s]"
      ]
     },
     "metadata": {},
     "output_type": "display_data"
    }
   ],
   "source": [
    "d = {'P': [], 'type': []}\n",
    "df = pd.DataFrame(data=d)\n",
    "# ---------- softmax best model ----------\n",
    "model_soft = Network([X.shape[0], Y.shape[0]])\n",
    "soft_losses = model_soft.train(X_train, Y_train, X_val, Y_val, n_batch=4, lr=1e-2, lam=1e-3, decay_steps=5, augmentation=True)\n",
    "\n",
    "\n",
    "# ---------- sigmoid best model ----------\n",
    "model_sigm = Network([X.shape[0], Y.shape[0]], sigmoid, multiple_cross_entropy)\n",
    "sigm_losses = model_sigm.train(X_train, Y_train, X_val, Y_val, n_batch=4, lr=1e-2, lam=1e-3, decay_steps=10, augmentation=True)\n",
    "\n"
   ]
  },
  {
   "cell_type": "code",
   "execution_count": null,
   "metadata": {},
   "outputs": [
    {
     "data": {
      "image/png": "[encoded data removed]",
      "text/plain": [
       "<Figure size 1200x1000 with 2 Axes>"
      ]
     },
     "metadata": {},
     "output_type": "display_data"
    }
   ],
   "source": [
    "# For softmax model\n",
    "P_softmax = model_soft.forward(X_test)  # (K,n)\n",
    "guess_softmax = np.argmax(P_softmax, axis=0)\n",
    "correct_mask_soft = guess_softmax == y_test\n",
    "\n",
    "# Manually extract the probability for each true class\n",
    "prob_true_class_soft = np.zeros(len(y_test))\n",
    "for i in range(len(y_test)):\n",
    "    prob_true_class_soft[i] = P_softmax[int(y_test[i]), i]\n",
    "\n",
    "# For sigmoid model\n",
    "P_sigm = model_sigm.forward(X_test)  # (K,n)\n",
    "guess_sigm = np.argmax(P_sigm, axis=0)\n",
    "correct_mask_sigm = guess_sigm == y_test\n",
    "\n",
    "# Manually extract the probability for each true class\n",
    "prob_true_class_sigm = np.zeros(len(y_test))\n",
    "for i in range(len(y_test)):\n",
    "    prob_true_class_sigm[i] = P_sigm[int(y_test[i]), i]\n",
    "\n",
    "# Now plot the histograms\n",
    "fig, axes = plt.subplots(2, 1, figsize=(12, 10))\n",
    "\n",
    "# Top plot - Softmax\n",
    "axes[0].hist(prob_true_class_soft[correct_mask_soft], bins=20, alpha=0.7, color='blue', label='Correct')\n",
    "axes[0].hist(prob_true_class_soft[~correct_mask_soft], bins=20, alpha=0.7, color='red', label='Incorrect')\n",
    "axes[0].set_title('Softmax: Probability Distribution for Ground Truth Class', fontsize=14)\n",
    "axes[0].set_xlabel('Probability for Ground Truth Class')\n",
    "axes[0].set_ylabel('Count')\n",
    "axes[0].legend()\n",
    "\n",
    "# Bottom plot - Sigmoid\n",
    "axes[1].hist(prob_true_class_sigm[correct_mask_sigm], bins=20, alpha=0.7, color='blue', label='Correct')\n",
    "axes[1].hist(prob_true_class_sigm[~correct_mask_sigm], bins=20, alpha=0.7, color='red', label='Incorrect')\n",
    "axes[1].set_title('Sigmoid: Probability Distribution for Ground Truth Class', fontsize=14)\n",
    "axes[1].set_xlabel('Probability for Ground Truth Class')\n",
    "axes[1].set_ylabel('Count')\n",
    "axes[1].legend()\n",
    "\n",
    "plt.tight_layout()\n",
    "plt.show()"
   ]
  },
  {
   "cell_type": "code",
   "execution_count": null,
   "metadata": {},
   "outputs": [
    {
     "data": {
      "image/png": "[encoded data removed]",
      "text/plain": [
       "<Figure size 1200x500 with 2 Axes>"
      ]
     },
     "metadata": {},
     "output_type": "display_data"
    }
   ],
   "source": [
    "# Plot training and validation losses\n",
    "plt.figure(figsize=(12, 5))\n",
    "\n",
    "# Plot for softmax model\n",
    "plt.subplot(1, 2, 1)\n",
    "train_loss_soft = list(soft_losses[\"train\"].values())\n",
    "val_loss_soft = list(soft_losses[\"val\"].values())\n",
    "epochs = range(len(train_loss_soft))\n",
    "plt.plot(epochs, train_loss_soft, 'b-', label='Training loss')\n",
    "plt.plot(epochs, val_loss_soft, 'r-', label='Validation loss')\n",
    "plt.title('Training and Validation Loss (Softmax)')\n",
    "plt.xlabel('Epochs')\n",
    "plt.ylabel('Loss')\n",
    "plt.legend()\n",
    "\n",
    "# Plot for sigmoid model\n",
    "plt.subplot(1, 2, 2)\n",
    "train_loss_sigm = list(sigm_losses[\"train\"].values())\n",
    "val_loss_sigm = list(sigm_losses[\"val\"].values())\n",
    "epochs = range(len(train_loss_sigm))\n",
    "plt.plot(epochs, train_loss_sigm, 'b-', label='Training loss')\n",
    "plt.plot(epochs, val_loss_sigm, 'r-', label='Validation loss')\n",
    "plt.title('Training and Validation Loss (Sigmoid)')\n",
    "plt.xlabel('Epochs')\n",
    "plt.ylabel('Loss')\n",
    "plt.legend()\n",
    "\n",
    "plt.tight_layout()\n",
    "plt.savefig('img/loss_plots.png')\n",
    "plt.show()"
   ]
  },
  {
   "cell_type": "code",
   "execution_count": null,
   "metadata": {},
   "outputs": [],
   "source": []
  }
 ],
 "metadata": {
  "kernelspec": {
   "display_name": ".venv",
   "language": "python",
   "name": "python3"
  },
  "language_info": {
   "codemirror_mode": {
    "name": "ipython",
    "version": 3
   },
   "file_extension": ".py",
   "mimetype": "text/x-python",
   "name": "python",
   "nbconvert_exporter": "python",
   "pygments_lexer": "ipython3",
   "version": "3.11.11"
  }
 },
 "nbformat": 4,
 "nbformat_minor": 2
}
